{
 "cells": [
  {
   "cell_type": "code",
   "execution_count": 36,
   "id": "31c76edb",
   "metadata": {},
   "outputs": [],
   "source": [
    "import cv2\n",
    "import numpy as np\n",
    "import os\n",
    "import pandas as pd"
   ]
  },
  {
   "cell_type": "code",
   "execution_count": 37,
   "id": "40864749",
   "metadata": {},
   "outputs": [],
   "source": [
    "file_location = r'C:\\Users\\bklyu\\Downloads\\python tasks\\green\\pictures and results\\cities'"
   ]
  },
  {
   "cell_type": "code",
   "execution_count": 38,
   "id": "6147da04",
   "metadata": {},
   "outputs": [],
   "source": [
    "# lower bound and upper bound for all colors\n",
    "lower_bound_all = np.array([0, 0, 20]) \n",
    "upper_bound_all = np.array([180, 255, 255])\n",
    "# lower bound and upper bound for Green color\n",
    "lower_bound_green = np.array([50, 20, 20])\n",
    "upper_bound_green = np.array([100, 255, 255])\n",
    "# lower bound and upper bound for blue color aka not_city\n",
    "lower_bound_blue = np.array([85,20,20])\n",
    "upper_bound_blue = np.array([110,255,255])\n",
    "out_df = pd.DataFrame(columns=['city_name', 'area', 'percent_of_green', 'area_of_green'])"
   ]
  },
  {
   "cell_type": "code",
   "execution_count": 40,
   "id": "1fcbc49a",
   "metadata": {},
   "outputs": [
    {
     "name": "stderr",
     "output_type": "stream",
     "text": [
      "C:\\Users\\bklyu\\AppData\\Local\\Temp\\ipykernel_79892\\455825693.py:39: FutureWarning: The frame.append method is deprecated and will be removed from pandas in a future version. Use pandas.concat instead.\n",
      "  out_df = out_df.append(df2)\n",
      "C:\\Users\\bklyu\\AppData\\Local\\Temp\\ipykernel_79892\\455825693.py:39: FutureWarning: The frame.append method is deprecated and will be removed from pandas in a future version. Use pandas.concat instead.\n",
      "  out_df = out_df.append(df2)\n",
      "C:\\Users\\bklyu\\AppData\\Local\\Temp\\ipykernel_79892\\455825693.py:39: FutureWarning: The frame.append method is deprecated and will be removed from pandas in a future version. Use pandas.concat instead.\n",
      "  out_df = out_df.append(df2)\n",
      "C:\\Users\\bklyu\\AppData\\Local\\Temp\\ipykernel_79892\\455825693.py:39: FutureWarning: The frame.append method is deprecated and will be removed from pandas in a future version. Use pandas.concat instead.\n",
      "  out_df = out_df.append(df2)\n",
      "C:\\Users\\bklyu\\AppData\\Local\\Temp\\ipykernel_79892\\455825693.py:39: FutureWarning: The frame.append method is deprecated and will be removed from pandas in a future version. Use pandas.concat instead.\n",
      "  out_df = out_df.append(df2)\n",
      "C:\\Users\\bklyu\\AppData\\Local\\Temp\\ipykernel_79892\\455825693.py:39: FutureWarning: The frame.append method is deprecated and will be removed from pandas in a future version. Use pandas.concat instead.\n",
      "  out_df = out_df.append(df2)\n",
      "C:\\Users\\bklyu\\AppData\\Local\\Temp\\ipykernel_79892\\455825693.py:39: FutureWarning: The frame.append method is deprecated and will be removed from pandas in a future version. Use pandas.concat instead.\n",
      "  out_df = out_df.append(df2)\n",
      "C:\\Users\\bklyu\\AppData\\Local\\Temp\\ipykernel_79892\\455825693.py:39: FutureWarning: The frame.append method is deprecated and will be removed from pandas in a future version. Use pandas.concat instead.\n",
      "  out_df = out_df.append(df2)\n",
      "C:\\Users\\bklyu\\AppData\\Local\\Temp\\ipykernel_79892\\455825693.py:39: FutureWarning: The frame.append method is deprecated and will be removed from pandas in a future version. Use pandas.concat instead.\n",
      "  out_df = out_df.append(df2)\n",
      "C:\\Users\\bklyu\\AppData\\Local\\Temp\\ipykernel_79892\\455825693.py:39: FutureWarning: The frame.append method is deprecated and will be removed from pandas in a future version. Use pandas.concat instead.\n",
      "  out_df = out_df.append(df2)\n",
      "C:\\Users\\bklyu\\AppData\\Local\\Temp\\ipykernel_79892\\455825693.py:39: FutureWarning: The frame.append method is deprecated and will be removed from pandas in a future version. Use pandas.concat instead.\n",
      "  out_df = out_df.append(df2)\n",
      "C:\\Users\\bklyu\\AppData\\Local\\Temp\\ipykernel_79892\\455825693.py:39: FutureWarning: The frame.append method is deprecated and will be removed from pandas in a future version. Use pandas.concat instead.\n",
      "  out_df = out_df.append(df2)\n",
      "C:\\Users\\bklyu\\AppData\\Local\\Temp\\ipykernel_79892\\455825693.py:39: FutureWarning: The frame.append method is deprecated and will be removed from pandas in a future version. Use pandas.concat instead.\n",
      "  out_df = out_df.append(df2)\n",
      "C:\\Users\\bklyu\\AppData\\Local\\Temp\\ipykernel_79892\\455825693.py:39: FutureWarning: The frame.append method is deprecated and will be removed from pandas in a future version. Use pandas.concat instead.\n",
      "  out_df = out_df.append(df2)\n",
      "C:\\Users\\bklyu\\AppData\\Local\\Temp\\ipykernel_79892\\455825693.py:39: FutureWarning: The frame.append method is deprecated and will be removed from pandas in a future version. Use pandas.concat instead.\n",
      "  out_df = out_df.append(df2)\n",
      "C:\\Users\\bklyu\\AppData\\Local\\Temp\\ipykernel_79892\\455825693.py:39: FutureWarning: The frame.append method is deprecated and will be removed from pandas in a future version. Use pandas.concat instead.\n",
      "  out_df = out_df.append(df2)\n",
      "C:\\Users\\bklyu\\AppData\\Local\\Temp\\ipykernel_79892\\455825693.py:39: FutureWarning: The frame.append method is deprecated and will be removed from pandas in a future version. Use pandas.concat instead.\n",
      "  out_df = out_df.append(df2)\n",
      "C:\\Users\\bklyu\\AppData\\Local\\Temp\\ipykernel_79892\\455825693.py:39: FutureWarning: The frame.append method is deprecated and will be removed from pandas in a future version. Use pandas.concat instead.\n",
      "  out_df = out_df.append(df2)\n",
      "C:\\Users\\bklyu\\AppData\\Local\\Temp\\ipykernel_79892\\455825693.py:39: FutureWarning: The frame.append method is deprecated and will be removed from pandas in a future version. Use pandas.concat instead.\n",
      "  out_df = out_df.append(df2)\n",
      "C:\\Users\\bklyu\\AppData\\Local\\Temp\\ipykernel_79892\\455825693.py:39: FutureWarning: The frame.append method is deprecated and will be removed from pandas in a future version. Use pandas.concat instead.\n",
      "  out_df = out_df.append(df2)\n"
     ]
    }
   ],
   "source": [
    "for file in os.listdir(file_location):\n",
    "    file_name = os.path.join(file_location, file)\n",
    "    if os.path.isfile(file_name):\n",
    "        city_name = file_name[72:-4]\n",
    "        \n",
    "        # Reading the image\n",
    "        city_name_file =  r'C:\\Users\\bklyu\\Downloads\\python tasks\\green\\pictures and results\\cities\\\\'+city_name+\".jpg\"\n",
    "        city_name_view = cv2.imread(city_name_file)\n",
    "        hsv = cv2.cvtColor(city_name_view, cv2.COLOR_BGR2HSV)\n",
    "        # find the image within the image\n",
    "        picture_size = cv2.inRange(hsv, lower_bound_all, upper_bound_all)\n",
    "        # calculate the number of pixels within the image\n",
    "        picture_size_pix = np.sum(picture_size == 255)\n",
    "        # find the green_zone within the image\n",
    "        green_zone = cv2.inRange(hsv, lower_bound_green, upper_bound_green)\n",
    "        # counting the number of green pixels\n",
    "        green_pix = np.sum(green_zone == 255)\n",
    "        # find the not_city within the image\n",
    "        not_city = cv2.inRange(hsv, lower_bound_blue, upper_bound_blue)\n",
    "        # counting the number of non_city pixels\n",
    "        non_city_pix = np.sum(not_city == 255)\n",
    "        # counting the number of city pixels\n",
    "        city_size_pix = picture_size_pix-non_city_pix\n",
    "    \n",
    "        d = {'beijing': 16410, 'berlin': 891, 'cairo': 2734, 'cape_town': 2456, 'city_of_sydney': 26, 'delhi':1484, 'dubai': 4477, 'istambul':5313, 'jakarta': 662.33, 'london': 1595, 'mexico_city': 1485, 'moscow': 2561.5, 'new_york': 1213.37, 'paris': 105, 'rome': 1287, 'sao_paulo': 1521.11, 'seoul': 605.23, 'singapore': 724.2, 'tokyo': 2193.96, 'toronto': 630} \n",
    "        area_of_city = d[city_name]\n",
    "        \n",
    "        #precent of green areas covering a city\n",
    "        percent_of_green = green_pix/city_size_pix\n",
    "        #calculating the area of green places\n",
    "        area_of_green = percent_of_green * area_of_city\n",
    "        \n",
    "        #saving image of green_zone\n",
    "        cv2.imwrite(r'C:\\Users\\bklyu\\Downloads\\python tasks\\green\\pictures and results\\cities\\\\'+city_name+\"_green_zone.jpg\",green_zone) \n",
    "        #saving image of city\n",
    "        cv2.imwrite(r'C:\\Users\\bklyu\\Downloads\\python tasks\\green\\pictures and results\\cities\\\\'+city_name+\"_city.jpg\",not_city) \n",
    "        \n",
    "        df2 = pd.DataFrame({\"city_name\": [city_name], \"area\": [area_of_city], \"percent_of_green\": [percent_of_green],\"area_of_green\": [area_of_green]})\n",
    "    out_df = out_df.append(df2)\n",
    "out_df.to_excel( r'C:\\Users\\bklyu\\Downloads\\python tasks\\green\\pictures and results\\output.xlsx',index=False)"
   ]
  },
  {
   "cell_type": "code",
   "execution_count": null,
   "id": "14ef651b",
   "metadata": {},
   "outputs": [],
   "source": []
  }
 ],
 "metadata": {
  "kernelspec": {
   "display_name": "Python 3 (ipykernel)",
   "language": "python",
   "name": "python3"
  },
  "language_info": {
   "codemirror_mode": {
    "name": "ipython",
    "version": 3
   },
   "file_extension": ".py",
   "mimetype": "text/x-python",
   "name": "python",
   "nbconvert_exporter": "python",
   "pygments_lexer": "ipython3",
   "version": "3.11.7"
  }
 },
 "nbformat": 4,
 "nbformat_minor": 5
}
