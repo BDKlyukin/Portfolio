{
 "cells": [
  {
   "cell_type": "code",
   "execution_count": null,
   "id": "c4d5f51b-a377-4789-a2fd-2b4f4d07c548",
   "metadata": {},
   "outputs": [],
   "source": [
    "import pandas as pd\n",
    "import numpy as np\n",
    "\n",
    "import matplotlib.pyplot as plt\n",
    "from scipy.optimize import minimize"
   ]
  },
  {
   "cell_type": "code",
   "execution_count": null,
   "id": "7b64ca37-8109-47bb-9585-e7b6d0f8bf13",
   "metadata": {},
   "outputs": [],
   "source": [
    "debit = pd.read_excel(r'debit_by_sector.xlsx')\n",
    "\n",
    "debit = debit[debit['Дата'].dt.year > 2022]\n",
    "\n",
    "debit_ind = debit[debit.columns[2:-3]].diff(periods=1).iloc[1:].reset_index(drop=True)\n",
    "debit_dep_long = debit[debit.columns[-1]].diff(periods=1).iloc[1:].reset_index(drop=True)\n",
    "debit_dep_short = debit[debit.columns[-3]].diff(periods=1).iloc[1:].reset_index(drop=True) + debit[debit.columns[-2]].diff(periods=1).iloc[1:].reset_index(drop=True)"
   ]
  },
  {
   "cell_type": "code",
   "execution_count": null,
   "id": "ec5d91d2-4ddc-4ffd-ba13-0fe9adca274c",
   "metadata": {},
   "outputs": [],
   "source": [
    "# Define the objective function (MSE) using DataFrame columns\n",
    "def mse(params):\n",
    "    y_pred_long = (debit_ind * params).T.sum()\n",
    "    y_pred_short = (debit_ind * [1 - x for x in params]).T.sum()\n",
    "    return np.mean((debit_dep_long - y_pred_long) ** 2) + np.mean((debit_dep_short - y_pred_short) ** 2)\n",
    "\n",
    "# Initial guess for parameters\n",
    "initial_guess = [0.5] *int(len(debit_ind.columns))  # Starting parameters within [0, 1]\n",
    "\n",
    "# Set the parameter bounds to be between 0 and 1\n",
    "bounds = [(0, 0.9)]*int(len(debit_ind.columns))\n",
    "\n",
    "\n",
    "# Minimize the MSE with parameter constraints using scipy\n",
    "result = minimize(mse, \n",
    "                  initial_guess, \n",
    "                  bounds=bounds,\n",
    "                  method='trust-constr'\n",
    "                 )\n",
    "\n",
    "# Get the optimized parameters\n",
    "optimal_params = result.x\n",
    "pd.concat([pd.DataFrame(debit_ind.columns.values).T, pd.DataFrame(optimal_params).round(decimals=3).T]).T"
   ]
  },
  {
   "cell_type": "code",
   "execution_count": null,
   "id": "57094148-ae61-49a5-8159-9a8e2d3d6bbf",
   "metadata": {},
   "outputs": [],
   "source": [
    "x = debit['Дата'][1:]\n",
    "y = debit_dep_long\n",
    " \n",
    "# first plot with X and Y data\n",
    "plt.plot(x, y, label=debit.columns[-1])\n",
    " \n",
    "x1 = debit['Дата'][1:]\n",
    "y1 = (debit_ind*optimal_params).T.sum()\n",
    " \n",
    "# second plot with x1 and y1 data\n",
    "plt.plot(x1, y1, '-.', label='prediction')\n",
    "\n",
    "plt.legend()\n",
    "plt.xlabel(\"X-axis data\")\n",
    "plt.ylabel(\"Y-axis data\")\n",
    "plt.title('multiple plots')\n",
    "plt.show()"
   ]
  },
  {
   "cell_type": "code",
   "execution_count": null,
   "id": "63fa96ac-ef3b-4e7d-b5fa-1a87a2188d35",
   "metadata": {},
   "outputs": [],
   "source": []
  }
 ],
 "metadata": {
  "kernelspec": {
   "display_name": "Python 3 (ipykernel)",
   "language": "python",
   "name": "python3"
  },
  "language_info": {
   "codemirror_mode": {
    "name": "ipython",
    "version": 3
   },
   "file_extension": ".py",
   "mimetype": "text/x-python",
   "name": "python",
   "nbconvert_exporter": "python",
   "pygments_lexer": "ipython3",
   "version": "3.11.7"
  }
 },
 "nbformat": 4,
 "nbformat_minor": 5
}
