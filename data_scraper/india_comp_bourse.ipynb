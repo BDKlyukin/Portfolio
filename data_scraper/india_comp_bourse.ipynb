{
 "cells": [
  {
   "cell_type": "code",
   "execution_count": 38,
   "id": "b83205e0-d8fd-4e73-9faa-e8c59d8e20b1",
   "metadata": {},
   "outputs": [],
   "source": [
    "from selenium import webdriver\n",
    "from selenium.webdriver.chrome.options import Options\n",
    "from selenium.webdriver.support.ui import WebDriverWait\n",
    "from selenium.webdriver.support import expected_conditions as EC\n",
    "from selenium.webdriver.common.by import By\n",
    "\n",
    "import pandas as pd\n",
    "import numpy as np\n",
    "import time\n",
    "\n",
    "import random"
   ]
  },
  {
   "cell_type": "code",
   "execution_count": 2,
   "id": "e97b44cc-7a6c-4d69-a11e-147e9bb94ab1",
   "metadata": {},
   "outputs": [],
   "source": [
    "DRIVER_PATH = r'Z:\\РАБОЧИЕ ДОКУМЕНТЫ\\1.БАРОМЕТР\\СИСТЕМА  БАРОМЕТР Fine Report  2024\\4. webdrivers\\chromedriver_127.exe'\n",
    "\n",
    "chrome_options = webdriver.ChromeOptions()\n",
    "# chrome_options.add_argument(\"--headless\")\n",
    "# chrome_options.add_argument('start-maximized')\n",
    "# chrome_options.add_argument('disable-infobars')\n",
    "# chrome_options.add_argument('--disable-extensions')\n",
    "# chrome_options.add_argument('--disable-client-side-phishing-detection')\n",
    "# chrome_options.add_argument('--incognito')\n",
    "# chrome_options.add_argument('--disable-background-networking')\n",
    "# chrome_options.add_experimental_option( \"prefs\",{'profile.managed_default_content_settings.javascript': 2})"
   ]
  },
  {
   "cell_type": "code",
   "execution_count": 3,
   "id": "7f27f5ce-d038-47f3-bf44-dbed1d43d60e",
   "metadata": {},
   "outputs": [],
   "source": [
    "import psycopg2\n",
    "import sqlalchemy\n",
    "from sqlalchemy import create_engine\n",
    "\n",
    "#key words for connection to postgreSQL\n",
    "host=\"localhost\"\n",
    "database=\"programming_experiments\"\n",
    "user=\"postgres\"\n",
    "port = \"5432\"\n",
    "password=\"SQL###is1234\"\n",
    "schema=\"screener_data_india\"\n",
    "\n",
    "\n",
    "#CHECK TABLE NAME\n",
    "#CHECK TABLE NAME\n",
    "#CHECK TABLE NAME\n",
    "table = 'india_screener_links'\n",
    "\n",
    "\n",
    "#create a connection to the PostgreSQL database\n",
    "conn = psycopg2.connect(\n",
    "    host=host,\n",
    "    port=port,\n",
    "    user=user,\n",
    "    password=password,\n",
    "    database=database,\n",
    "    options=f'''-c search_path={schema}''')\n",
    "\n",
    "\n",
    "#some magic from the internet which makes this work\n",
    "from psycopg2.extensions import ISOLATION_LEVEL_AUTOCOMMIT\n",
    "conn.set_isolation_level(ISOLATION_LEVEL_AUTOCOMMIT)\n",
    "\n",
    "\n",
    "#the thing we use to send commands  \n",
    "curr = conn.cursor()\n",
    "\n",
    "\n",
    "#creating a table\n",
    "curr.execute(f'''\n",
    "CREATE TABLE IF NOT EXISTS {schema}.{table}\n",
    "(\n",
    "    company_name text,\n",
    "    screener_link text,\n",
    "    screener_id text\n",
    ");\n",
    "''')\n",
    "\n",
    "\n",
    "#create an SQLAlchemy engine\n",
    "engine = create_engine(f\"\"\"postgresql+psycopg2://{user}:{password}@{host}:{port}/{database}\"\"\") "
   ]
  },
  {
   "cell_type": "code",
   "execution_count": 4,
   "id": "628e6f43-8f4c-43a1-91a1-c45c30619526",
   "metadata": {},
   "outputs": [],
   "source": [
    "driver = webdriver.Chrome(executable_path=DRIVER_PATH\n",
    "                          ,options=chrome_options\n",
    "                         )"
   ]
  },
  {
   "cell_type": "code",
   "execution_count": 5,
   "id": "09036611-c67a-484b-b3e1-74028ba92d75",
   "metadata": {},
   "outputs": [],
   "source": [
    "driver.get(f'''https://www.bing.com/search?q=site%3Afinance.yahoo.com%2F&qs=n&form=QBRE&sp=-1&lq=0&pq=site%3Afinance.yahoo.com%2F&sc=1-23&sk=&cvid=57BA7170E84342FC8ABC48D572277D6C&ghsh=0&ghacc=0&ghpl=''')"
   ]
  },
  {
   "cell_type": "code",
   "execution_count": 9,
   "id": "f5b9a1a8-b8e7-4a33-8c41-dfdde659a9b1",
   "metadata": {},
   "outputs": [
    {
     "data": {
      "text/plain": [
       "0         Bally Fabs International Ltd\n",
       "1       Raja Bahadur International Ltd\n",
       "2          HB Leasing & Finance Co Ltd\n",
       "3     Visu Leasing And Finance Pvt Ltd\n",
       "4                        GR Cables Ltd\n",
       "                    ...               \n",
       "61               Radha Madhav Corp Ltd\n",
       "62               Siddhi Industries Ltd\n",
       "63               Siddhika Coatings Ltd\n",
       "64       Vanita Agrochem India Pvt Ltd\n",
       "65                 Vinati Organics Ltd\n",
       "Name: company_name, Length: 66, dtype: object"
      ]
     },
     "execution_count": 9,
     "metadata": {},
     "output_type": "execute_result"
    }
   ],
   "source": [
    "company_names = pd.read_excel(r\"C:\\Users\\klyukin\\Documents\\Python Scripts\\phd\\_code\\INDIA_bloomberg_info.xlsx\")['company_name']\n",
    "company_names"
   ]
  },
  {
   "cell_type": "code",
   "execution_count": 10,
   "id": "bb18b565-8801-4138-857c-562a38e734ce",
   "metadata": {},
   "outputs": [],
   "source": [
    "for name in company_names:\n",
    "    #manually inputting the info\n",
    "    driver.find_element(By.CSS_SELECTOR, '#sb_form_q').clear()\n",
    "    time.sleep(random.uniform(1, 1.5))\n",
    "    driver.find_element(By.CSS_SELECTOR, '#sb_form_q').send_keys('site:https://www.screener.in/company/ ' + name)\n",
    "    time.sleep(random.uniform(1, 1.5))\n",
    "    driver.find_element(By.CSS_SELECTOR, '#sb_form_go').click()\n",
    "    time.sleep(random.uniform(1, 1.5))\n",
    "    \n",
    "    try:\n",
    "        URL = driver.find_element(By.XPATH, '/html/body/div[2]/main/ol/li[1]/h2/a').get_attribute('href')\n",
    "    except:\n",
    "        try:\n",
    "            URL = driver.find_element(By.XPATH, '/html/body/div[1]/main/ol/li[1]/h2/a').get_attribute('href')\n",
    "        except:\n",
    "            try:\n",
    "                URL = driver.find_element(By.XPATH, '/html/body/div[1]/main/ol/li[1]/div[1]/div/h2/a').get_attribute('href')\n",
    "            except:\n",
    "                try:\n",
    "                    URL = driver.find_element(By.XPATH, '/html/body/div[1]/main/ol/li[1]/div[1]/h2/a').get_attribute('href')\n",
    "                except:\n",
    "                    try:\n",
    "                        URL = driver.find_element(By.XPATH, '/html/body/div[1]/main/ol/li[2]/h2/a').get_attribute('href')\n",
    "                    except:\n",
    "                        try:\n",
    "                            URL = driver.find_element(By.XPATH, '/html/body/div[1]/main/ol/li[3]/h2/a').get_attribute('href')/html/body/div[2]/main/ol/li[1]/div[1]/div/h2/a\n",
    "                        except:\n",
    "                            try:\n",
    "                                URL = driver.find_element(By.XPATH, '/html/body/div[2]/main/ol/li[1]/div[1]/div/h2/a').get_attribute('href')\n",
    "                            except:\n",
    "                                try:\n",
    "                                    URL = driver.find_element(By.XPATH, '/html/body/div[2]/main/ol/li[2]/h2/a').get_attribute('href')\n",
    "                                except:\n",
    "                                    URL = None\n",
    "    try:\n",
    "        if URL.endswith('consolidated/'):\n",
    "            screener_id = URL.split('/')[-3]\n",
    "        else:\n",
    "            screener_id = URL.split('/')[-2]\n",
    "    except:\n",
    "        screener_id = None\n",
    "    \n",
    "    # buidling the df\n",
    "    screener_search_metadata = pd.DataFrame({\n",
    "        'company_name': [name],\n",
    "        'screener_link': [URL],\n",
    "        'screener_id': [screener_id]\n",
    "    })\n",
    "    \n",
    "    #upload the dataframe to the database\n",
    "    screener_search_metadata.to_sql(table, engine, schema=schema, if_exists='append', index=False)\n",
    "    \n",
    "    # waiting in order to not get banned\n",
    "    time.sleep(random.uniform(2, 4))"
   ]
  },
  {
   "cell_type": "code",
   "execution_count": 2,
   "id": "8f2e34ba-47fe-472f-9c6e-7c773b7de785",
   "metadata": {},
   "outputs": [],
   "source": [
    "DRIVER_PATH = r'Z:\\РАБОЧИЕ ДОКУМЕНТЫ\\1.БАРОМЕТР\\СИСТЕМА  БАРОМЕТР Fine Report  2024\\4. webdrivers\\chromedriver_127.exe'\n",
    "\n",
    "chrome_options = webdriver.ChromeOptions()\n",
    "# chrome_options.add_argument(\"--headless\")\n",
    "chrome_options.add_argument('start-maximized')\n",
    "# chrome_options.add_argument('disable-infobars')\n",
    "# chrome_options.add_argument('--disable-extensions')\n",
    "# chrome_options.add_argument('--disable-client-side-phishing-detection')\n",
    "# chrome_options.add_argument('--incognito')\n",
    "# chrome_options.add_argument('--disable-background-networking')\n",
    "chrome_options.add_experimental_option( \"prefs\",{'profile.managed_default_content_settings.javascript': 2})"
   ]
  },
  {
   "cell_type": "code",
   "execution_count": 3,
   "id": "321b462e-10dc-4a06-a5ba-0c72a63b896c",
   "metadata": {},
   "outputs": [],
   "source": [
    "driver = webdriver.Chrome(executable_path=DRIVER_PATH\n",
    "                          ,options=chrome_options\n",
    "                         )"
   ]
  },
  {
   "cell_type": "code",
   "execution_count": 115,
   "id": "944e099e-ed26-48c4-a82f-7dcb758efbdd",
   "metadata": {},
   "outputs": [],
   "source": [
    "import psycopg2\n",
    "import sqlalchemy\n",
    "from sqlalchemy import create_engine\n",
    "\n",
    "#key words for connection to postgreSQL\n",
    "host=\"localhost\"\n",
    "database=\"programming_experiments\"\n",
    "user=\"postgres\"\n",
    "port = \"5432\"\n",
    "password=\"SQL###is1234\"\n",
    "schema=\"screener_data_india\"\n",
    "\n",
    "\n",
    "#CHECK TABLE NAME\n",
    "#CHECK TABLE NAME\n",
    "#CHECK TABLE NAME\n",
    "table = 'india_financial_screener_data'\n",
    "\n",
    "\n",
    "#create a connection to the PostgreSQL database\n",
    "conn = psycopg2.connect(\n",
    "    host=host,\n",
    "    port=port,\n",
    "    user=user,\n",
    "    password=password,\n",
    "    database=database,\n",
    "    options=f'''-c search_path={schema}''')\n",
    "\n",
    "\n",
    "#some magic from the internet which makes this work\n",
    "from psycopg2.extensions import ISOLATION_LEVEL_AUTOCOMMIT\n",
    "conn.set_isolation_level(ISOLATION_LEVEL_AUTOCOMMIT)\n",
    "\n",
    "\n",
    "#the thing we use to send commands  \n",
    "curr = conn.cursor()\n",
    "\n",
    "\n",
    "#creating a table\n",
    "curr.execute(f'''\n",
    "CREATE TABLE IF NOT EXISTS {schema}.{table}\n",
    "(\n",
    "    screener_id text,\n",
    "    company_name text,\n",
    "    ticker_name_one text,\n",
    "    ticker_name_two text,\n",
    "    stock_price text,\n",
    "    market_cap text,\n",
    "    pe_ratio text,\n",
    "    book_value text,\n",
    "    dividend_yield text,\n",
    "    ROCE text,\n",
    "    ROE text,\n",
    "    sector text,\n",
    "    industry text \n",
    ");\n",
    "''')\n",
    "\n",
    "\n",
    "#create an SQLAlchemy engine\n",
    "engine = create_engine(f\"\"\"postgresql+psycopg2://{user}:{password}@{host}:{port}/{database}\"\"\") "
   ]
  },
  {
   "cell_type": "code",
   "execution_count": 116,
   "id": "738bfecb-fc49-47c1-b0b7-7d4b92470ca6",
   "metadata": {},
   "outputs": [
    {
     "data": {
      "text/plain": [
       "0        20MICRONS\n",
       "1           360ONE\n",
       "2           532067\n",
       "3           544190\n",
       "4        3IINFOLTD\n",
       "           ...    \n",
       "5438    id/1284795\n",
       "5439         ZUARI\n",
       "5440      ZUARIIND\n",
       "5441     ZYDUSLIFE\n",
       "5442     ZYDUSWELL\n",
       "Name: screener_id, Length: 5443, dtype: object"
      ]
     },
     "execution_count": 116,
     "metadata": {},
     "output_type": "execute_result"
    }
   ],
   "source": [
    "company_names = pd.read_excel(r\"screener_india_listed_companies.xlsx\")['screener_id']\n",
    "company_names"
   ]
  },
  {
   "cell_type": "code",
   "execution_count": 118,
   "id": "2b25a2c5-fe96-489d-a750-df6fc4d9ecdd",
   "metadata": {},
   "outputs": [],
   "source": [
    "for screener_id in company_names:\n",
    "        \n",
    "    driver.get(f'''https://www.screener.in/company/{screener_id}''')\n",
    "    \n",
    "    try:\n",
    "        company_name = driver.find_element(By.CSS_SELECTOR, '#top > div.flex.flex-space-between.flex-gap-8 > div > h1').text\n",
    "    except:\n",
    "        company_name = None\n",
    "    \n",
    "    try:\n",
    "        stock_price = driver.find_element(By.CSS_SELECTOR, '#top > div.flex.flex-space-between.flex-gap-8 > div > div.font-size-18.strong.line-height-14 > div.flex.flex-align-center > span:nth-child(1)').text\n",
    "    except:\n",
    "        stock_price = None\n",
    "    \n",
    "    try:\n",
    "        ticker_name_one = driver.find_element(By.CSS_SELECTOR, '#top > div.company-links.show-from-tablet-landscape > a:nth-child(2) > span').text\n",
    "    except:\n",
    "        ticker_name_one = None\n",
    "    \n",
    "    try:\n",
    "        ticker_name_two = driver.find_element(By.CSS_SELECTOR, '#top > div.company-links.show-from-tablet-landscape > a:nth-child(3) > span').text\n",
    "    except:\n",
    "        ticker_name_two = None\n",
    "    \n",
    "    \n",
    "    try:\n",
    "        industry = driver.find_element(By.CSS_SELECTOR, '#peers > div.flex.flex-space-between > div:nth-child(1)').text.split('\\n')[-1].replace('Sector', '').replace(': ', '').split('Industry')[-1]\n",
    "    except:\n",
    "        industry = None\n",
    "    \n",
    "    try:\n",
    "        sector = driver.find_element(By.CSS_SELECTOR, '#peers > div.flex.flex-space-between > div:nth-child(1)').text.split('\\n')[-1].replace('Sector', '').replace(': ', '').split('Industry')[0]\n",
    "    except:\n",
    "        sector = None\n",
    "    \n",
    "    try:\n",
    "        roe = driver.find_element(By.CSS_SELECTOR, '#top-ratios > li:nth-child(8)').text.split('\\n')[-1]\n",
    "    except:\n",
    "        roe = None\n",
    "    \n",
    "    try:\n",
    "        roce = driver.find_element(By.CSS_SELECTOR, '#top-ratios > li:nth-child(7)').text.split('\\n')[-1]\n",
    "    except:\n",
    "        roce = None\n",
    "    \n",
    "    try:\n",
    "        dividend_yield = driver.find_element(By.CSS_SELECTOR, '#top-ratios > li:nth-child(6)').text.split('\\n')[-1]\n",
    "    except:\n",
    "        dividend_yield = None\n",
    "    \n",
    "    try:\n",
    "        book_value = driver.find_element(By.CSS_SELECTOR, '#top-ratios > li:nth-child(5)').text.split('\\n')[-1]\n",
    "    except:\n",
    "        book_value = None\n",
    "    \n",
    "    try:\n",
    "        pe_ratio = driver.find_element(By.CSS_SELECTOR, '#top-ratios > li:nth-child(4)').text.split('\\n')[-1]\n",
    "    except:\n",
    "        pe_ratio = None\n",
    "    \n",
    "    try:\n",
    "        market_cap = driver.find_element(By.CSS_SELECTOR, '#top-ratios > li:nth-child(1)').text.split('\\n')[-1]\n",
    "    except:\n",
    "        market_cap = None\n",
    "    \n",
    "    screener_bourse_data = pd.DataFrame({\n",
    "        'screener_id':[screener_id],\n",
    "        'company_name': [company_name],\n",
    "        'ticker_name_one': [ticker_name_one],\n",
    "        'ticker_name_two': [ticker_name_two],\n",
    "        'stock_price': [stock_price],\n",
    "        'market_cap': [market_cap],\n",
    "        'pe_ratio': [pe_ratio],\n",
    "        'book_value': [book_value],\n",
    "        'dividend_yield': [dividend_yield],\n",
    "        'roce': [roce],\n",
    "        'roe': [roe],\n",
    "        'sector': [sector],\n",
    "        'industry': [industry],    \n",
    "    })\n",
    "    \n",
    "    #upload the dataframe to the database\n",
    "    screener_bourse_data.to_sql(table, engine, schema=schema, if_exists='append', index=False)\n",
    "\n",
    "    time.sleep(3)"
   ]
  },
  {
   "cell_type": "code",
   "execution_count": 119,
   "id": "ff1c4be7-fcaf-4ee7-b465-e68c6ba4b2f5",
   "metadata": {},
   "outputs": [],
   "source": [
    "# something that needs to be done after interacting with the DB\n",
    "conn.commit()\n",
    "conn.close()"
   ]
  },
  {
   "cell_type": "code",
   "execution_count": 112,
   "id": "933c4e7a-9253-431f-b6bc-14f1ecaf0030",
   "metadata": {},
   "outputs": [],
   "source": [
    "market_cap = driver.find_element(By.CSS_SELECTOR, '#top-ratios > li:nth-child(1)').text.split('\\n')[-1]"
   ]
  },
  {
   "cell_type": "code",
   "execution_count": 97,
   "id": "cb36d072-f66b-4a87-b798-52227b401ff6",
   "metadata": {},
   "outputs": [
    {
     "data": {
      "text/plain": [
       "'Current Price\\n₹ 201'"
      ]
     },
     "execution_count": 97,
     "metadata": {},
     "output_type": "execute_result"
    }
   ],
   "source": [
    "# current_price = driver.find_element(By.CSS_SELECTOR, '#top-ratios > li:nth-child(2)').text.split('\\n')[-1]"
   ]
  },
  {
   "cell_type": "code",
   "execution_count": 98,
   "id": "a945a089-c9f5-4721-836c-6a2e8fbcfe2b",
   "metadata": {},
   "outputs": [
    {
     "data": {
      "text/plain": [
       "'High / Low\\n₹ 274 / 135'"
      ]
     },
     "execution_count": 98,
     "metadata": {},
     "output_type": "execute_result"
    }
   ],
   "source": [
    "# high_low = driver.find_element(By.CSS_SELECTOR, '#top-ratios > li:nth-child(3)').text.split('\\n')[-1]"
   ]
  },
  {
   "cell_type": "code",
   "execution_count": 99,
   "id": "8b5cab56-a413-4170-ac7a-bc214210e681",
   "metadata": {},
   "outputs": [
    {
     "data": {
      "text/plain": [
       "'Stock P/E\\n31.6'"
      ]
     },
     "execution_count": 99,
     "metadata": {},
     "output_type": "execute_result"
    }
   ],
   "source": [
    "pe_ratio = driver.find_element(By.CSS_SELECTOR, '#top-ratios > li:nth-child(4)').text.split('\\n')[-1]"
   ]
  },
  {
   "cell_type": "code",
   "execution_count": 100,
   "id": "f891459b-0dc8-4159-bd12-33a829b2082e",
   "metadata": {},
   "outputs": [
    {
     "data": {
      "text/plain": [
       "'Book Value\\n₹ 61.3'"
      ]
     },
     "execution_count": 100,
     "metadata": {},
     "output_type": "execute_result"
    }
   ],
   "source": [
    "book_value = driver.find_element(By.CSS_SELECTOR, '#top-ratios > li:nth-child(5)').text.split('\\n')[-1]"
   ]
  },
  {
   "cell_type": "code",
   "execution_count": 101,
   "id": "ee5c3747-ef7a-42d0-90dd-252805779121",
   "metadata": {},
   "outputs": [
    {
     "data": {
      "text/plain": [
       "'Dividend Yield\\n0.00 %'"
      ]
     },
     "execution_count": 101,
     "metadata": {},
     "output_type": "execute_result"
    }
   ],
   "source": [
    "dividend_yield = driver.find_element(By.CSS_SELECTOR, '#top-ratios > li:nth-child(6)').text.split('\\n')[-1]"
   ]
  },
  {
   "cell_type": "code",
   "execution_count": 102,
   "id": "0c1b22cd-65e8-4109-b442-ce7b0ce6eeb5",
   "metadata": {},
   "outputs": [
    {
     "data": {
      "text/plain": [
       "'ROCE\\n17.2 %'"
      ]
     },
     "execution_count": 102,
     "metadata": {},
     "output_type": "execute_result"
    }
   ],
   "source": [
    "ROCE = driver.find_element(By.CSS_SELECTOR, '#top-ratios > li:nth-child(7)').text.split('\\n')[-1]"
   ]
  },
  {
   "cell_type": "code",
   "execution_count": 103,
   "id": "24392635-96ee-4b05-bc2e-916534deb08e",
   "metadata": {},
   "outputs": [
    {
     "data": {
      "text/plain": [
       "'ROE\\n22.4 %'"
      ]
     },
     "execution_count": 103,
     "metadata": {},
     "output_type": "execute_result"
    }
   ],
   "source": [
    "ROE = driver.find_element(By.CSS_SELECTOR, '#top-ratios > li:nth-child(8)').text.split('\\n')[-1]"
   ]
  },
  {
   "cell_type": "code",
   "execution_count": 104,
   "id": "0e9e0edb-8de4-4a47-83f5-286efe6fc96e",
   "metadata": {},
   "outputs": [
    {
     "data": {
      "text/plain": [
       "'Face Value\\n₹ 10.0'"
      ]
     },
     "execution_count": 104,
     "metadata": {},
     "output_type": "execute_result"
    }
   ],
   "source": [
    "# driver.find_element(By.CSS_SELECTOR, '#top-ratios > li:nth-child(9)').text.split('\\n')[-1]"
   ]
  },
  {
   "cell_type": "code",
   "execution_count": 105,
   "id": "0305b05f-094d-4aca-bf2f-8bd1b38c2870",
   "metadata": {},
   "outputs": [
    {
     "data": {
      "text/plain": [
       "'Shipping '"
      ]
     },
     "execution_count": 105,
     "metadata": {},
     "output_type": "execute_result"
    }
   ],
   "source": [
    "sector = driver.find_element(By.CSS_SELECTOR, '#peers > div.flex.flex-space-between > div:nth-child(1)').text.split('\\n')[-1].replace('Sector', '').replace(': ', '').split('Industry')[0]"
   ]
  },
  {
   "cell_type": "code",
   "execution_count": 106,
   "id": "107bcde7-dadf-4129-9ad1-992fde69a706",
   "metadata": {},
   "outputs": [
    {
     "data": {
      "text/plain": [
       "'Shipping'"
      ]
     },
     "execution_count": 106,
     "metadata": {},
     "output_type": "execute_result"
    }
   ],
   "source": [
    "industry = driver.find_element(By.CSS_SELECTOR, '#peers > div.flex.flex-space-between > div:nth-child(1)').text.split('\\n')[-1].replace('Sector', '').replace(': ', '').split('Industry')[-1]"
   ]
  },
  {
   "cell_type": "code",
   "execution_count": 75,
   "id": "861bc164-fbb5-45a7-8519-293bfdd0a559",
   "metadata": {},
   "outputs": [
    {
     "data": {
      "text/plain": [
       "['Jun 2021 Sep 2021 Dec 2021 Mar 2022 Jun 2022 Sep 2022 Dec 2022 Mar 2023 Jun 2023 Sep 2023 Dec 2023 Mar 2024 Jun 2024',\n",
       " 'Sales 71.40 139.87 195.83 106.91 115.95 178.30 181.22 265.10 120.56 200.21 156.37 131.95 136.62',\n",
       " 'Expenses 66.08 128.54 184.53 104.99 110.04 163.95 174.49 269.93 121.49 182.22 155.04 137.85 128.88',\n",
       " 'Operating Profit 5.32 11.33 11.30 1.92 5.91 14.35 6.73 -4.83 -0.93 17.99 1.33 -5.90 7.74',\n",
       " 'OPM % 7.45% 8.10% 5.77% 1.80% 5.10% 8.05% 3.71% -1.82% -0.77% 8.99% 0.85% -4.47% 5.67%',\n",
       " 'Other Income 2.63 2.04 2.42 2.35 1.90 2.25 3.33 10.54 54.33 -33.61 -12.77 2.97 3.59',\n",
       " 'Interest 2.93 4.17 3.37 1.89 2.82 3.48 4.44 4.78 4.86 5.35 5.22 4.07 5.55',\n",
       " 'Depreciation 4.87 3.45 3.81 5.94 3.29 3.74 4.22 3.31 3.53 3.27 2.96 3.00 10.06',\n",
       " 'Profit before tax 0.15 5.75 6.54 -3.56 1.70 9.38 1.40 -2.38 45.01 -24.24 -19.62 -10.00 -4.28',\n",
       " 'Tax % 6.67% 17.22% 17.28% -19.38% 1.76% 1.07% 4.29% 2.10% 13.84% 2.10% -0.61% -41.30% 0.70%',\n",
       " 'Net Profit 0.14 4.76 5.41 -2.87 1.67 9.28 1.34 -2.43 38.78 -24.75 -19.50 -5.87 -4.31',\n",
       " 'EPS in Rs 0.01 0.36 0.41 -0.22 0.13 0.70 0.10 -0.18 2.92 -1.86 -1.47 -0.44 -0.32']"
      ]
     },
     "execution_count": 75,
     "metadata": {},
     "output_type": "execute_result"
    }
   ],
   "source": [
    "# driver.find_element(By.CSS_SELECTOR, '#quarters').text.replace('+ ', '').split('\\n')[2:-1]"
   ]
  },
  {
   "cell_type": "code",
   "execution_count": 80,
   "id": "0178e655-6d0e-4ab5-8c91-dfbfde972588",
   "metadata": {},
   "outputs": [
    {
     "data": {
      "text/plain": [
       "['RELATED PARTY',\n",
       " 'Mar 2016 Mar 2017 Mar 2018 Mar 2019 Mar 2020 Mar 2021 Mar 2022 Mar 2023 Mar 2024 TTM',\n",
       " 'Sales 0 292 1,001 1,010 854 298 514 741 609 625',\n",
       " 'Expenses 0 290 906 916 804 278 484 718 596 604',\n",
       " 'Operating Profit 0 3 95 94 50 21 30 22 13 21',\n",
       " 'OPM % 1% 9% 9% 6% 7% 6% 3% 2% 3%',\n",
       " 'Other Income 0 1 1 2 -7 -31 9 18 11 -40',\n",
       " 'Interest 0 5 10 18 38 32 13 16 20 20',\n",
       " 'Depreciation 0 4 11 15 13 18 18 15 13 19',\n",
       " 'Profit before tax 0 -6 74 62 -7 -60 9 10 -9 -58',\n",
       " 'Tax % -37% 28% 1% -33% -0% 16% 2% 28%',\n",
       " 'Net Profit 0 -4 53 62 -5 -59 7 10 -11 -54',\n",
       " 'EPS in Rs 5.49 -0.43 -5.23 0.56 0.74 -0.85 -4.09',\n",
       " 'Dividend Payout % 0% 0% 0% 0% 0% 0% 135% -147%']"
      ]
     },
     "execution_count": 80,
     "metadata": {},
     "output_type": "execute_result"
    }
   ],
   "source": [
    "# driver.find_element(By.CSS_SELECTOR, '#profit-loss').text.replace('+ ', '').split('\\n')[2:-20]"
   ]
  },
  {
   "cell_type": "code",
   "execution_count": 83,
   "id": "ed459183-45b0-4c44-b19b-a0ad61355bc4",
   "metadata": {},
   "outputs": [
    {
     "data": {
      "text/plain": [
       "['Mar 2016 Mar 2017 Mar 2018 Mar 2019 Mar 2020 Mar 2021 Mar 2022 Mar 2023 Mar 2024',\n",
       " 'Equity Capital 0 22 23 23 23 42 53 53 53',\n",
       " 'Reserves 0 855 1,208 1,327 1,326 1,753 2,249 2,269 2,251',\n",
       " 'Borrowings 0 23 46 73 258 123 92 152 127',\n",
       " 'Other Liabilities 0 274 240 415 425 238 211 227 222',\n",
       " 'Total Liabilities 0 1,173 1,517 1,837 2,033 2,156 2,605 2,700 2,653',\n",
       " 'Fixed Assets 0 22 19 39 58 42 28 41 92',\n",
       " 'CWIP 0 0 0 7 0 0 0 0 2',\n",
       " 'Investments 0 848 1,141 1,244 1,301 1,754 2,108 2,129 1,985',\n",
       " 'Other Assets 0 303 357 547 674 360 469 530 574',\n",
       " 'Total Assets 0 1,173 1,517 1,837 2,033 2,156 2,605 2,700 2,653']"
      ]
     },
     "execution_count": 83,
     "metadata": {},
     "output_type": "execute_result"
    }
   ],
   "source": [
    "# driver.find_element(By.CSS_SELECTOR, '#balance-sheet').text.replace('+ ', '').split('\\n')[3:]"
   ]
  },
  {
   "cell_type": "code",
   "execution_count": 85,
   "id": "2e8baf59-ed8e-4a63-ae14-1cc522c2e95a",
   "metadata": {},
   "outputs": [
    {
     "data": {
      "text/plain": [
       "['Mar 2016 Mar 2017 Mar 2018 Mar 2019 Mar 2020 Mar 2021 Mar 2022 Mar 2023 Mar 2024',\n",
       " 'Cash from Operating Activity 0 243 -4 124 -0 -15 -87 38 -28',\n",
       " 'Cash from Investing Activity -0 -1,103 -303 -136 -145 -321 -366 -65 94',\n",
       " 'Cash from Financing Activity 0 860 315 5 152 329 454 27 -63',\n",
       " 'Net Cash Flow 0 0 8 -7 7 -7 0 -1 3']"
      ]
     },
     "execution_count": 85,
     "metadata": {},
     "output_type": "execute_result"
    }
   ],
   "source": [
    "# driver.find_element(By.CSS_SELECTOR, '#cash-flow').text.replace('+ ', '').split('\\n')[2:]"
   ]
  },
  {
   "cell_type": "code",
   "execution_count": 88,
   "id": "0a537c26-42d2-447f-97be-2bdaa55d836e",
   "metadata": {},
   "outputs": [
    {
     "data": {
      "text/plain": [
       "['Sep 2021 Dec 2021 Mar 2022 Jun 2022 Sep 2022 Dec 2022 Mar 2023 Jun 2023 Sep 2023 Dec 2023 Mar 2024 Jun 2024',\n",
       " 'Promoters 36.96% 36.93% 36.92% 36.88% 36.84% 36.83% 36.82% 36.82% 36.80% 36.79% 36.78% 35.21%',\n",
       " 'FIIs 7.84% 7.86% 7.87% 7.63% 7.64% 16.31% 16.31% 15.78% 16.60% 16.76% 15.73% 15.58%',\n",
       " 'DIIs 10.85% 11.02% 11.25% 11.68% 11.06% 10.54% 10.53% 9.94% 8.00% 8.37% 10.66% 11.93%',\n",
       " 'Public 44.35% 44.19% 43.95% 43.80% 44.44% 36.33% 36.33% 37.46% 38.59% 38.09% 36.82% 37.27%',\n",
       " 'No. of Shareholders 1,74,408 1,72,325 1,71,465 1,68,885 1,65,454 1,65,868 1,63,930 1,62,162 1,62,014 1,67,323 1,68,919 1,64,774']"
      ]
     },
     "execution_count": 88,
     "metadata": {},
     "output_type": "execute_result"
    }
   ],
   "source": [
    "# driver.find_element(By.CSS_SELECTOR, '#shareholding').text.replace('+ ', '').split('\\n')[6:-1]"
   ]
  },
  {
   "cell_type": "code",
   "execution_count": null,
   "id": "709d594b-d5aa-481b-b6cf-0f0f70a48b9f",
   "metadata": {},
   "outputs": [],
   "source": []
  },
  {
   "cell_type": "code",
   "execution_count": 115,
   "id": "c0406762-4980-4121-96bf-fb4e01929d29",
   "metadata": {},
   "outputs": [],
   "source": [
    "screener_ids = pd.read_sql_query(f'''\n",
    "\n",
    "select screener_id\n",
    "from screener_data_india.india_screener_data\n",
    "where stock_price isnull;\n",
    "\n",
    "''', con=engine)['screener_id']"
   ]
  },
  {
   "cell_type": "code",
   "execution_count": 14,
   "id": "6a3e4bd2-d8a4-4eaf-a7d5-09f611b9af54",
   "metadata": {},
   "outputs": [],
   "source": [
    "# driver.get(f'''https://www.bing.com/search?q=site%3Afinance.yahoo.com%2F&qs=n&form=QBRE&sp=-1&lq=0&pq=site%3Afinance.yahoo.com%2F&sc=1-23&sk=&cvid=57BA7170E84342FC8ABC48D572277D6C&ghsh=0&ghacc=0&ghpl=''')\n",
    "# driver.get(f'''https://www.screener.in/company/ASHOKAMET/consolidated/''')"
   ]
  },
  {
   "cell_type": "code",
   "execution_count": 19,
   "id": "116720c9-b2d4-4a9e-86f9-c7b07f334add",
   "metadata": {},
   "outputs": [],
   "source": [
    "driver.get(f'''https://www.screener.in/company/530043/''')"
   ]
  },
  {
   "cell_type": "code",
   "execution_count": null,
   "id": "8fbfe2d5-f8af-4ba0-858d-eb6879810cfd",
   "metadata": {},
   "outputs": [],
   "source": [
    "https://www.screener.in/company/ASHOKAMET/consolidated/"
   ]
  }
 ],
 "metadata": {
  "kernelspec": {
   "display_name": "Python 3 (ipykernel)",
   "language": "python",
   "name": "python3"
  },
  "language_info": {
   "codemirror_mode": {
    "name": "ipython",
    "version": 3
   },
   "file_extension": ".py",
   "mimetype": "text/x-python",
   "name": "python",
   "nbconvert_exporter": "python",
   "pygments_lexer": "ipython3",
   "version": "3.11.7"
  }
 },
 "nbformat": 4,
 "nbformat_minor": 5
}
