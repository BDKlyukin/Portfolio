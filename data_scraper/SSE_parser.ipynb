{
 "cells": [
  {
   "cell_type": "code",
   "execution_count": null,
   "id": "16a1944f-c53d-43be-9271-12a8c5ffa7bf",
   "metadata": {},
   "outputs": [],
   "source": [
    "from selenium import webdriver\n",
    "from selenium.webdriver.chrome.options import Options\n",
    "from selenium.webdriver.support.ui import WebDriverWait\n",
    "from selenium.webdriver.support import expected_conditions as EC\n",
    "from selenium.webdriver.common.by import By\n",
    "\n",
    "import numpy as np\n",
    "import pandas as pd\n",
    "import time\n",
    "\n",
    "import random\n",
    "\n",
    "import psycopg2\n",
    "import sqlalchemy\n",
    "from sqlalchemy import create_engine"
   ]
  },
  {
   "cell_type": "code",
   "execution_count": null,
   "id": "bc84fd2b-9241-4cdf-aa07-58ba53847134",
   "metadata": {},
   "outputs": [],
   "source": [
    "DRIVER_PATH = r'Z:\\РАБОЧИЕ ДОКУМЕНТЫ\\1.БАРОМЕТР\\СИСТЕМА  БАРОМЕТР Fine Report  2024\\4. webdrivers\\chromedriver_127.exe'\n",
    "\n",
    "chrome_options = webdriver.ChromeOptions()\n",
    "# chrome_options.add_argument(\"--headless\")\n",
    "# chrome_options.add_argument('start-maximized')\n",
    "# chrome_options.add_argument('disable-infobars')\n",
    "# chrome_options.add_argument('--disable-extensions')\n",
    "# chrome_options.add_argument('--disable-client-side-phishing-detection')\n",
    "# chrome_options.add_argument('--incognito')\n",
    "# chrome_options.add_argument('--disable-background-networking')\n",
    "# chrome_options.add_experimental_option( \"prefs\",{'profile.managed_default_content_settings.javascript': 2})"
   ]
  },
  {
   "cell_type": "code",
   "execution_count": null,
   "id": "d63d11b3-441b-4c11-bed4-9bfc2abc5e05",
   "metadata": {},
   "outputs": [],
   "source": [
    "driver = webdriver.Chrome(executable_path=DRIVER_PATH\n",
    "                          ,options=chrome_options\n",
    "                         )"
   ]
  },
  {
   "cell_type": "code",
   "execution_count": null,
   "id": "0f22c9ac-3944-4922-9558-6578a9895857",
   "metadata": {},
   "outputs": [],
   "source": [
    "# collecting the list of listed companies on sse listed by their isic\n",
    "# going to website\n",
    "driver.get('https://www.sse.com.cn/assortment/stock/areatrade/trade/')"
   ]
  },
  {
   "cell_type": "code",
   "execution_count": null,
   "id": "cb8e6703-6534-4f41-9689-5bed75562516",
   "metadata": {},
   "outputs": [],
   "source": [
    "# getting the info\n",
    "SSE_ISIC_grouped = pd.DataFrame([elem.text for elem in driver.find_elements(By.CSS_SELECTOR, \".text-nowrap\")])\n",
    "\n",
    "# transforming the \"1 by M\" matrix/list into a \"X by Y\" matrix\n",
    "SSE_ISIC_grouped = pd.DataFrame(np.reshape(SSE_ISIC_grouped, (int((len(SSE_ISIC_grouped))/6), 6)))\n",
    "\n",
    "# getting and stitching on the column names\n",
    "SSE_ISIC_grouped.columns = pd.DataFrame([elem.text for elem in driver.find_elements(By.CSS_SELECTOR, \"th\")]).T.iloc[0]"
   ]
  },
  {
   "cell_type": "code",
   "execution_count": null,
   "id": "dd941fa2-65fa-429c-b435-6a8763b1e703",
   "metadata": {},
   "outputs": [],
   "source": [
    "# exporting for manual use\n",
    "SSE_ISIC_grouped.to_excel(r'C:\\Users\\klyukin\\Downloads\\SSE_ISIC_grouped.xlsx', index=True)"
   ]
  },
  {
   "cell_type": "code",
   "execution_count": null,
   "id": "0c609cff-9e72-4cc6-abdd-404bd1c023fa",
   "metadata": {},
   "outputs": [],
   "source": [
    "# gathering the individual company by each isic\n",
    "ISIC_companies = pd.DataFrame()\n",
    "\n",
    "for ticker in SSE_ISIC_grouped['行业代码']:\n",
    "    # going to website\n",
    "    driver.get(f'''https://www.sse.com.cn/assortment/stock/areatrade/trade/detail.shtml?csrcCode={ticker}''')\n",
    "\n",
    "    # getting the info\n",
    "    ISIC_companies_temp = pd.DataFrame([elem.text for elem in driver.find_elements(By.CSS_SELECTOR, \".text-nowrap\")])\n",
    "    \n",
    "    # transforming the \"1 by M\" matrix/list into a \"X by Y\" matrix\n",
    "    ISIC_companies_temp = pd.DataFrame(np.reshape(ISIC_companies_temp, (int((len(ISIC_companies_temp))/4), 4)))\n",
    "    \n",
    "    # getting and stitching on the column names\n",
    "    ISIC_companies_temp.columns = pd.DataFrame([elem.text for elem in driver.find_elements(By.CSS_SELECTOR, \"th\")]).T.iloc[0]\n",
    "\n",
    "    # adding the industry code from the previous step\n",
    "    ISIC_companies_temp['行业代码'] = ticker\n",
    "\n",
    "    # stitching the two together\n",
    "    ISIC_companies = pd.concat([ISIC_companies, ISIC_companies_temp])\n",
    "\n",
    "    # trying not to get flagged and banned by the stock exchange\n",
    "    time.sleep(random.uniform(0, 1)+0.5)"
   ]
  },
  {
   "cell_type": "code",
   "execution_count": null,
   "id": "158f6156-a75c-463b-b234-17534f7f73a2",
   "metadata": {},
   "outputs": [],
   "source": [
    "# # exporting for manual use\n",
    "ISIC_companies.to_excel(r'C:\\Users\\klyukin\\Downloads\\ISIC_companies.xlsx', index=True)"
   ]
  }
 ],
 "metadata": {
  "kernelspec": {
   "display_name": "Python 3 (ipykernel)",
   "language": "python",
   "name": "python3"
  },
  "language_info": {
   "codemirror_mode": {
    "name": "ipython",
    "version": 3
   },
   "file_extension": ".py",
   "mimetype": "text/x-python",
   "name": "python",
   "nbconvert_exporter": "python",
   "pygments_lexer": "ipython3",
   "version": "3.11.7"
  }
 },
 "nbformat": 4,
 "nbformat_minor": 5
}
