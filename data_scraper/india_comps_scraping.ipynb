{
 "cells": [
  {
   "cell_type": "code",
   "execution_count": 1,
   "id": "f8b57d31-fd0e-445b-b70a-f8b4c0504eb6",
   "metadata": {},
   "outputs": [],
   "source": [
    "from selenium import webdriver\n",
    "from selenium.webdriver.chrome.options import Options\n",
    "from selenium.webdriver.support.ui import WebDriverWait\n",
    "from selenium.webdriver.support import expected_conditions as EC\n",
    "from selenium.webdriver.common.by import By\n",
    "\n",
    "import pandas as pd\n",
    "import time\n",
    "\n",
    "import random"
   ]
  },
  {
   "cell_type": "code",
   "execution_count": null,
   "id": "42efbe1f-1da9-4376-b9c0-cd5d52fd9c28",
   "metadata": {},
   "outputs": [],
   "source": []
  },
  {
   "cell_type": "code",
   "execution_count": 52,
   "id": "fc4fa3e8-5c13-4af1-8084-93aa89607992",
   "metadata": {},
   "outputs": [],
   "source": [
    "DRIVER_PATH = r'Z:\\РАБОЧИЕ ДОКУМЕНТЫ\\1.БАРОМЕТР\\СИСТЕМА  БАРОМЕТР Fine Report  2024\\4. webdrivers\\chromedriver.exe'\n",
    "driver = webdriver.Chrome(executable_path=DRIVER_PATH)"
   ]
  },
  {
   "cell_type": "code",
   "execution_count": null,
   "id": "754a2ee8-ab21-4836-9b1a-f65f26a29029",
   "metadata": {},
   "outputs": [],
   "source": []
  },
  {
   "cell_type": "code",
   "execution_count": 54,
   "id": "9b5c567a-6ba6-4660-8d9b-5e46acec1fa9",
   "metadata": {},
   "outputs": [],
   "source": [
    "# gathering the companies which start with numbers (they dont have their own category on the website)\n",
    "link = 'https://www.business-standard.com/markets/stock-companies-list'\n",
    "driver.get(f'''{link}''')\n",
    "time.sleep(0.5)\n",
    "\n",
    "driver.execute_script(\"window.scrollTo(0, document.body.scrollHeight);\")\n",
    "WebDriverWait(driver, 5, poll_frequency=random.uniform(0, 1)+0.5).until(\n",
    "    EC.presence_of_element_located((\n",
    "        By.CSS_SELECTOR, f'''#__next > div > div.section-div.corporate-box.gl-table.no-pad > div.quote-head.load-more'''))).click()\n",
    "time.sleep(1)\n",
    "\n",
    "# getting a list of all the links and using the last one (as it is the most relveant)\n",
    "content = driver.find_elements(By.TAG_NAME, \"a\")\n",
    "links = [elem.get_attribute('href') for elem in content]\n",
    "\n",
    "begin = links.index( 'https://www.business-standard.com/markets/stock-companies-list/z')\n",
    "end = links.index('https://www.business-standard.com/markets/7seas-entertainment-ltd-share-price-28404.html')\n",
    "\n",
    "links_companies = links[begin+1:end+1]\n",
    "\n",
    "india_comps = pd.DataFrame({link : links_companies}).T"
   ]
  },
  {
   "cell_type": "code",
   "execution_count": null,
   "id": "4a54175a-148b-4e8d-916b-e00c923c3be5",
   "metadata": {},
   "outputs": [],
   "source": []
  },
  {
   "cell_type": "code",
   "execution_count": 3,
   "id": "96dee2a1-93e9-4de8-a527-4249d2c60fe2",
   "metadata": {},
   "outputs": [],
   "source": [
    "# compiled by hand from the website\n",
    "source = ['https://www.business-standard.com/markets/stock-companies-list/a',\n",
    "          'https://www.business-standard.com/markets/stock-companies-list/b',          \n",
    "          'https://www.business-standard.com/markets/stock-companies-list/c',\n",
    "          'https://www.business-standard.com/markets/stock-companies-list/d',\n",
    "          'https://www.business-standard.com/markets/stock-companies-list/e',\n",
    "          'https://www.business-standard.com/markets/stock-companies-list/f',\n",
    "          'https://www.business-standard.com/markets/stock-companies-list/g',\n",
    "          'https://www.business-standard.com/markets/stock-companies-list/h',\n",
    "          'https://www.business-standard.com/markets/stock-companies-list/i',\n",
    "          'https://www.business-standard.com/markets/stock-companies-list/j',\n",
    "          'https://www.business-standard.com/markets/stock-companies-list/k',\n",
    "          'https://www.business-standard.com/markets/stock-companies-list/l',\n",
    "          'https://www.business-standard.com/markets/stock-companies-list/m',\n",
    "          'https://www.business-standard.com/markets/stock-companies-list/n',\n",
    "          'https://www.business-standard.com/markets/stock-companies-list/o',\n",
    "          'https://www.business-standard.com/markets/stock-companies-list/p',\n",
    "          'https://www.business-standard.com/markets/stock-companies-list/q',         \n",
    "          'https://www.business-standard.com/markets/stock-companies-list/r',\n",
    "          'https://www.business-standard.com/markets/stock-companies-list/s',\n",
    "          'https://www.business-standard.com/markets/stock-companies-list/t',\n",
    "          'https://www.business-standard.com/markets/stock-companies-list/u',\n",
    "          'https://www.business-standard.com/markets/stock-companies-list/v',\n",
    "          'https://www.business-standard.com/markets/stock-companies-list/w',\n",
    "          'https://www.business-standard.com/markets/stock-companies-list/x',\n",
    "          'https://www.business-standard.com/markets/stock-companies-list/y',\n",
    "          'https://www.business-standard.com/markets/stock-companies-list/z']"
   ]
  },
  {
   "cell_type": "code",
   "execution_count": null,
   "id": "0166ec44-1b0b-4ff7-bebe-84f269b982cb",
   "metadata": {},
   "outputs": [],
   "source": []
  },
  {
   "cell_type": "code",
   "execution_count": 4,
   "id": "1743ae8a-b0cf-4084-b86f-60f563743652",
   "metadata": {},
   "outputs": [
    {
     "name": "stderr",
     "output_type": "stream",
     "text": [
      "\n",
      "KeyboardInterrupt\n",
      "\n"
     ]
    }
   ],
   "source": [
    "for link in source:\n",
    "    driver.get(f'''{link}''')\n",
    "    time.sleep(0.5)\n",
    "    while True:\n",
    "        try:\n",
    "            driver.execute_script(\"window.scrollTo(0, document.body.scrollHeight);\")\n",
    "            WebDriverWait(driver, 5, poll_frequency=random.uniform(0, 1)+0.5).until(\n",
    "                EC.presence_of_element_located((\n",
    "                    By.CSS_SELECTOR, f'''#__next > div > div.section-div.corporate-box.gl-table.no-pad > div.quote-head.load-more'''))).click()\n",
    "            time.sleep(1)\n",
    "        except:\n",
    "            break\n",
    "    # getting a list of all the links and using the last one (as it is the most relveant)\n",
    "    content = driver.find_elements(By.TAG_NAME, \"a\")\n",
    "    links = [elem.get_attribute('href') for elem in content]\n",
    "\n",
    "    begin = links.index( 'https://www.business-standard.com/markets/stock-companies-list/z')\n",
    "    end = links.index( 'https://www.business-standard.com/markets/suzlon-energy-ltd-share-price-13872.html')\n",
    "    \n",
    "    links_companies = links[begin+1:end]\n",
    "\n",
    "    df = pd.DataFrame({link : links_companies}).T\n",
    "    india_comps = pd.concat([india_comps, df])"
   ]
  },
  {
   "cell_type": "code",
   "execution_count": null,
   "id": "744b7d5d-f181-47db-9a15-d498a2eea22f",
   "metadata": {},
   "outputs": [],
   "source": []
  },
  {
   "cell_type": "code",
   "execution_count": null,
   "id": "4de38987-d96d-41a8-839b-f22559120edd",
   "metadata": {},
   "outputs": [],
   "source": [
    "# changing the wide table into a single column table\n",
    "india_comps = india_comps.T\n",
    "\n",
    "df = pd.DataFrame()\n",
    "for column in india_comps.columns:\n",
    "    df = pd.concat([df, india_comps[column]])\n",
    "\n",
    "india_comps = df.rename(columns={0 : 'source'}).dropna()"
   ]
  },
  {
   "cell_type": "code",
   "execution_count": null,
   "id": "ec2355f3-fac4-4c77-85a0-ae6cd48d8e22",
   "metadata": {},
   "outputs": [],
   "source": []
  },
  {
   "cell_type": "code",
   "execution_count": null,
   "id": "0f11658e-bab8-4bea-89ee-e27e1e24b7e8",
   "metadata": {},
   "outputs": [],
   "source": [
    "# going through each link and collecting data about company\n",
    "for web_link in india_comps.source:\n",
    "    #remebering the source\n",
    "    website = {'source' : [web_link]}\n",
    "    stock_info = pd.DataFrame(website)\n",
    "\n",
    "    driver.get(f'''{web_link}''')\n",
    "    time.sleep(random.uniform(0, 1)+0.5)\n",
    "    \n",
    "    # company name\n",
    "    try:\n",
    "        company_name = driver.find_element(By.CSS_SELECTOR, \"#__next > div:nth-child(7) > div:nth-child(2) > section > div.flex-70 > div:nth-child(2) > div > div.companytop_cmpnynmecol__9Vpqn > h1\").text\n",
    "    except:\n",
    "        company_name = ''\n",
    "    \n",
    "    # BSE TICKER\n",
    "    try:\n",
    "        BSE_TICKER = driver.find_element(By.CSS_SELECTOR, \"#__next > div:nth-child(7) > div:nth-child(2) > section > div.flex-70 > div:nth-child(2) > div > div.companytop_cmpnysminfo__BN8Lc > p:nth-child(1)\").text\n",
    "    except:\n",
    "        BSE_TICKER = ''\n",
    "    \n",
    "    # NSE TICKER\n",
    "    try:\n",
    "        NSE_TICKER = driver.find_element(By.CSS_SELECTOR, \"#__next > div:nth-child(7) > div:nth-child(2) > section > div.flex-70 > div:nth-child(2) > div > div.companytop_cmpnysminfo__BN8Lc > p:nth-child(2)\").text\n",
    "    except:\n",
    "        NSE_TICKER = ''  \n",
    "    \n",
    "    # SECTOR\n",
    "    try:\n",
    "        SECTOR = driver.find_element(By.CSS_SELECTOR, \"#__next > div:nth-child(7) > div:nth-child(2) > section > div.flex-70 > div:nth-child(2) > div > div.companytop_cmpnysminfo__BN8Lc > p:nth-child(3)\").text\n",
    "    except:\n",
    "        SECTOR = ''   \n",
    "    \n",
    "    # ISIN CODE\n",
    "    try:\n",
    "        ISIN = driver.find_element(By.CSS_SELECTOR, \"#__next > div:nth-child(7) > div:nth-child(2) > section > div.flex-70 > div:nth-child(2) > div > div.companytop_cmpnysminfo__BN8Lc > p:nth-child(4)\").text\n",
    "    except:\n",
    "        ISIN = ''   \n",
    "    \n",
    "    # LAST BSE PRICE\n",
    "    try:\n",
    "        BSE_PRICE = driver.find_element(By.CSS_SELECTOR, \"#__next > div:nth-child(7) > div:nth-child(2) > section > div.flex-70 > div:nth-child(2) > div > div:nth-child(2) > div.companytop_cmpnynsepricecol__gWHxt > div:nth-child(1) > p\").text\n",
    "    except:\n",
    "        BSE_PRICE = ''\n",
    "    \n",
    "    # LAST NSE PRICE\n",
    "    try:\n",
    "        NSE_PRICE = driver.find_element(By.CSS_SELECTOR, \"#__next > div:nth-child(7) > div:nth-child(2) > section > div.flex-70 > div:nth-child(2) > div > div:nth-child(2) > div.companytop_cmpnynsepricecol__gWHxt > div:nth-child(2) > p\").text\n",
    "    except:\n",
    "        NSE_PRICE = ''\n",
    "    \n",
    "    # Market Cap\n",
    "    try:\n",
    "        market_cap = driver.find_element(By.CSS_SELECTOR, \"#__next > div:nth-child(7) > div:nth-child(2) > section > div.flex-70 > div.companytop_stcktabscol__Obs9V > div:nth-child(5) > div.companytop_marketmapcol__xzThi > div:nth-child(1) > table > tbody > tr:nth-child(1)\").text\n",
    "    except:\n",
    "        market_cap = ''\n",
    "    \n",
    "    # putting it all together\n",
    "    stock_info['company_name'] = company_name\n",
    "    stock_info['BSE_TICKER'] = BSE_TICKER\n",
    "    stock_info['NSE_TICKER'] = NSE_TICKER\n",
    "    stock_info['SECTOR'] = SECTOR\n",
    "    stock_info['ISIN'] = ISIN\n",
    "    stock_info['BSE_PRICE'] = BSE_PRICE\n",
    "    stock_info['NSE_PRICE'] = NSE_PRICE\n",
    "    stock_info['market_cap'] = market_cap\n",
    "    \n",
    "    # attaching it to the main df\n",
    "    stock_info_database = pd.concat([stock_info_database, stock_info])"
   ]
  },
  {
   "cell_type": "code",
   "execution_count": null,
   "id": "1926ff03-1065-4d54-bb20-3afc5d8220d9",
   "metadata": {},
   "outputs": [],
   "source": []
  },
  {
   "cell_type": "code",
   "execution_count": null,
   "id": "891f31c8-c642-4b06-8e32-713eb273cfa4",
   "metadata": {},
   "outputs": [],
   "source": [
    "# storing data\n",
    "stock_info_database.to_excel(r'C:\\Users\\klyukin\\Downloads\\india_companies_info_database.xlsx', index=True)"
   ]
  },
  {
   "cell_type": "code",
   "execution_count": null,
   "id": "2120c693-6069-43f2-a3b3-404225dd5283",
   "metadata": {},
   "outputs": [],
   "source": []
  }
 ],
 "metadata": {
  "kernelspec": {
   "display_name": "Python 3 (ipykernel)",
   "language": "python",
   "name": "python3"
  },
  "language_info": {
   "codemirror_mode": {
    "name": "ipython",
    "version": 3
   },
   "file_extension": ".py",
   "mimetype": "text/x-python",
   "name": "python",
   "nbconvert_exporter": "python",
   "pygments_lexer": "ipython3",
   "version": "3.11.7"
  }
 },
 "nbformat": 4,
 "nbformat_minor": 5
}
