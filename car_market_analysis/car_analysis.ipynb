{
 "cells": [
  {
   "cell_type": "code",
   "execution_count": 1,
   "id": "849f6aed-8aa9-4afd-a56c-b07a92413e66",
   "metadata": {},
   "outputs": [],
   "source": [
    "# import numpy as np\n",
    "# import pandas as pd\n",
    "# import matplotlib.pyplot as plt\n",
    "# from matplotlib import dates\n",
    "# %matplotlib inline\n",
    "# import statsmodels.api as sm\n",
    "# import seaborn as sns\n",
    "\n",
    "# import chart_studio.plotly as py\n",
    "# import plotly.express as px\n",
    "# import plotly.graph_objects as go\n",
    "\n",
    "# import pandas as pd\n",
    "\n"
   ]
  },
  {
   "cell_type": "code",
   "execution_count": 2,
   "id": "3df74c34-8048-4a31-97a2-ee2dfea494d1",
   "metadata": {},
   "outputs": [],
   "source": [
    "# from statsmodels.tsa.statespace.sarimax import SARIMAX\n",
    "from pmdarima import auto_arima\n",
    "# from statsmodels.tsa.seasonal import seasonal_decompose"
   ]
  },
  {
   "cell_type": "code",
   "execution_count": 44,
   "id": "8f52bdc2-bdb8-497f-b308-65b07a46ad17",
   "metadata": {},
   "outputs": [],
   "source": [
    "import pandas as pd\n",
    "import numpy as np\n",
    "import matplotlib.pyplot as plt\n",
    "from datetime import datetime\n",
    "from datetime import timedelta\n",
    "from pandas.plotting import register_matplotlib_converters\n",
    "from statsmodels.tsa.stattools import acf, pacf\n",
    "from statsmodels.tsa.statespace.sarimax import SARIMAX\n",
    "register_matplotlib_converters()\n",
    "from time import time\n",
    "\n",
    "import statsmodels.api as sm"
   ]
  },
  {
   "cell_type": "code",
   "execution_count": 330,
   "id": "89cac484-e907-4e27-be1b-7c8e244ee69e",
   "metadata": {},
   "outputs": [],
   "source": [
    "auto_analysis_df = pd.read_excel(r'analysis.xlsx')"
   ]
  },
  {
   "cell_type": "code",
   "execution_count": 331,
   "id": "d5c74204-4624-4a46-bc78-d490b9bc47a3",
   "metadata": {},
   "outputs": [],
   "source": [
    "auto_analysis_df = auto_analysis_df[['Дата'\n",
    "                                     , 'Количество выданных автокредитов в месяц, тыс. штук'\n",
    "                                     , 'Число регистраций в месяц, тыс. штук'\n",
    "                                     , 'Количество выданных автокредитов в месяц на новые автомобили, тыс. штук'\n",
    "                                     , 'Число регистраций новых автомобилей в месяц, тыс. штук'\n",
    "                                     , 'Количество выданных автокредитов в месяц на автомобили с пробегом, тыс. штук'\n",
    "                                     , 'Число регистраций автомобилей с пробегом в месяц, тыс. штук'\n",
    "                                     , 'Ключ ЦБ РФ'\n",
    "                                    ]]"
   ]
  },
  {
   "cell_type": "code",
   "execution_count": 332,
   "id": "69364c5b-0daa-4950-8aaf-819d94c5b137",
   "metadata": {},
   "outputs": [],
   "source": [
    "auto_analysis_df.rename(columns={'Дата': 'report_date'\n",
    "                                 , 'Количество выданных автокредитов в месяц, тыс. штук' : 'auto_loan_k'\n",
    "                                 , 'Число регистраций в месяц, тыс. штук' : 'auto_register_k'\n",
    "                                 , 'Количество выданных автокредитов в месяц на новые автомобили, тыс. штук' : 'new_auto_loan_k'\n",
    "                                 , 'Число регистраций новых автомобилей в месяц, тыс. штук' : 'new_auto_register_k'\n",
    "                                 , 'Количество выданных автокредитов в месяц на автомобили с пробегом, тыс. штук' : 'old_auto_loan_k'\n",
    "                                 , 'Число регистраций автомобилей с пробегом в месяц, тыс. штук' : 'old_auto_register_k'\n",
    "                                 ,  'Ключ ЦБ РФ' : 'cbr_key_rate'\n",
    "                                }, inplace=True)"
   ]
  },
  {
   "cell_type": "code",
   "execution_count": 333,
   "id": "7551e50f-6195-42fd-9640-ff165af268f0",
   "metadata": {},
   "outputs": [],
   "source": [
    "# from datetime import timedelta\n",
    "\n",
    "# auto_analysis_df['report_date'] = auto_analysis_df['report_date'] - timedelta(days=1)"
   ]
  },
  {
   "cell_type": "code",
   "execution_count": 334,
   "id": "c7de02e2-968a-4d97-b3ee-dd0bfed4afa0",
   "metadata": {},
   "outputs": [],
   "source": [
    "auto_analysis_df = auto_analysis_df[auto_analysis_df.report_date<'2025-01-31']"
   ]
  },
  {
   "cell_type": "code",
   "execution_count": 335,
   "id": "8a7f1d7e-192a-4d73-b854-f9f849ede52c",
   "metadata": {},
   "outputs": [],
   "source": [
    "auto_analysis_df = auto_analysis_df.set_index('report_date')"
   ]
  },
  {
   "cell_type": "code",
   "execution_count": 336,
   "id": "8e039914-9377-488e-b60c-df32bef9b453",
   "metadata": {},
   "outputs": [],
   "source": [
    "# start_date = min(auto_analysis_df.index)\n",
    "# end_date = max(auto_analysis_df.index)\n",
    "\n",
    "# plt.figure(figsize=(10,4))\n",
    "# plt.plot(auto_analysis_df['auto_register_k'])\n",
    "# plt.title('auto loans in 1000s of contracts', fontsize=20)\n",
    "# plt.ylabel('auto_register_k', fontsize=16)\n",
    "# for year in range(start_date.year,end_date.year):\n",
    "#     plt.axvline(pd.to_datetime(str(year)+'-01-01'), color='k', linestyle='--', alpha=0.2)"
   ]
  },
  {
   "cell_type": "code",
   "execution_count": 337,
   "id": "684b7985-5e52-45bf-a80a-6ee47d23cd39",
   "metadata": {},
   "outputs": [],
   "source": [
    "# first_diff = auto_analysis_df['old_auto_loan_k'].diff()[1:]"
   ]
  },
  {
   "cell_type": "code",
   "execution_count": 338,
   "id": "5b81be70-335f-4905-b73d-5af289a35218",
   "metadata": {},
   "outputs": [],
   "source": [
    "\n",
    "# plt.figure(figsize=(10,4))\n",
    "# plt.plot(first_diff)\n",
    "# plt.title('auto loans in 1000s of contracts', fontsize=20)\n",
    "# plt.ylabel('auto loans', fontsize=16)\n",
    "# for year in range(start_date.year,end_date.year):\n",
    "#     plt.axvline(pd.to_datetime(str(year)+'-01-01'), color='k', linestyle='--', alpha=0.2)\n",
    "# plt.axhline(0, color='k', linestyle='--', alpha=0.2)"
   ]
  },
  {
   "cell_type": "code",
   "execution_count": 339,
   "id": "e13c7d2d-c5a0-4b58-8785-2adb2d46068b",
   "metadata": {},
   "outputs": [],
   "source": [
    "# fig = plt.figure(figsize=(12,8))\n",
    "# fig=sm.graphics.tsa.plot_pacf(first_diff.values, lags=len(acf_vals))"
   ]
  },
  {
   "cell_type": "code",
   "execution_count": 340,
   "id": "302dac70-a32f-428b-b48f-10151fe4409a",
   "metadata": {},
   "outputs": [],
   "source": [
    "# fig = plt.figure(figsize=(12,8))\n",
    "# fig=sm.graphics.tsa.plot_acf(first_diff.values, lags=len(acf_vals))"
   ]
  },
  {
   "cell_type": "code",
   "execution_count": null,
   "id": "2cd6c3d8-27e9-4500-91d6-9844ff762579",
   "metadata": {},
   "outputs": [],
   "source": []
  },
  {
   "cell_type": "code",
   "execution_count": null,
   "id": "21581d92-cd9c-4f61-9635-3255ab959784",
   "metadata": {},
   "outputs": [],
   "source": []
  },
  {
   "cell_type": "code",
   "execution_count": 341,
   "id": "3edd67f7-537f-481b-95f9-319e5dd4cb47",
   "metadata": {},
   "outputs": [],
   "source": [
    "# train_data = auto_analysis_df[auto_analysis_df.index<'2024-01-31']['auto_loan_k']\n",
    "# test_data = auto_analysis_df[auto_analysis_df.index>'2023-12-31']['auto_loan_k']\n",
    "\n",
    "train_data = auto_analysis_df[auto_analysis_df.index<'2025-01-31']['auto_loan_k']"
   ]
  },
  {
   "cell_type": "code",
   "execution_count": 342,
   "id": "fc3493e7-e102-4a67-8034-7b73ba4a15a8",
   "metadata": {},
   "outputs": [],
   "source": [
    "# # Run auto_arima as seasonal with m since the season occurs \n",
    "# # over 12 months\n",
    "# auto_arima(train_data, seasonal=True, m=12, trace=True).summary()"
   ]
  },
  {
   "cell_type": "code",
   "execution_count": 561,
   "id": "422b39b4-8984-4a43-948d-7a91aaef7301",
   "metadata": {},
   "outputs": [],
   "source": [
    "x_df = auto_analysis_df['auto_loan_k']\n",
    "y_df = auto_analysis_df['auto_register_k']\n",
    "x_name = 'Количество выданных автокредитов в месяц, тыс. штук'\n",
    "y_name = 'Число регистраций в месяц, тыс. штук'\n",
    "\n",
    "\n",
    "\n",
    "# x_df = auto_analysis_df['new_auto_loan_k']\n",
    "# y_df = auto_analysis_df['new_auto_register_k']\n",
    "# x_name = 'Количество выданных автокредитов в месяц на новые автомобили, тыс. штук'\n",
    "# y_name = 'Число регистраций новых автомобилей в месяц, тыс. штук'\n",
    "\n",
    "\n",
    "\n",
    "# x_df = auto_analysis_df['old_auto_loan_k']\n",
    "# y_df = auto_analysis_df['old_auto_register_k']\n",
    "# x_name = 'Количество выданных автокредитов в месяц на автомобили с пробегом, тыс. штук'\n",
    "# y_name = 'Число регистраций автомобилей с пробегом в месяц, тыс. штук'"
   ]
  },
  {
   "cell_type": "code",
   "execution_count": 562,
   "id": "967bb08f-491d-4968-a723-2df351c63aa0",
   "metadata": {},
   "outputs": [],
   "source": [
    "key_rate = 21"
   ]
  },
  {
   "cell_type": "code",
   "execution_count": 563,
   "id": "0ff1c899-c991-415b-b811-636391741619",
   "metadata": {},
   "outputs": [
    {
     "name": "stderr",
     "output_type": "stream",
     "text": [
      "C:\\Users\\klyukin\\AppData\\Local\\anaconda3\\Lib\\site-packages\\statsmodels\\tsa\\base\\tsa_model.py:473: ValueWarning: No frequency information was provided, so inferred frequency ME will be used.\n",
      "  self._init_dates(dates, freq)\n",
      "C:\\Users\\klyukin\\AppData\\Local\\anaconda3\\Lib\\site-packages\\statsmodels\\tsa\\base\\tsa_model.py:473: ValueWarning: No frequency information was provided, so inferred frequency ME will be used.\n",
      "  self._init_dates(dates, freq)\n"
     ]
    }
   ],
   "source": [
    "# define model\n",
    "model = SARIMAX(x_df\n",
    "                , exog = auto_analysis_df['cbr_key_rate']\n",
    "                , order=(12, 1, 1)\n",
    "                , seasonal_order=(0, 1, 1, 12)\n",
    "               )"
   ]
  },
  {
   "cell_type": "code",
   "execution_count": 564,
   "id": "062d79bc-a6e0-4037-b5d4-397e53cd6531",
   "metadata": {},
   "outputs": [
    {
     "name": "stderr",
     "output_type": "stream",
     "text": [
      "C:\\Users\\klyukin\\AppData\\Local\\anaconda3\\Lib\\site-packages\\statsmodels\\tsa\\statespace\\sarimax.py:866: UserWarning: Too few observations to estimate starting parameters for seasonal ARMA. All parameters except for variances will be set to zeros.\n",
      "  warn('Too few observations to estimate starting parameters%s.'\n",
      "C:\\Users\\klyukin\\AppData\\Local\\anaconda3\\Lib\\site-packages\\statsmodels\\base\\model.py:607: ConvergenceWarning: Maximum Likelihood optimization failed to converge. Check mle_retvals\n",
      "  warnings.warn(\"Maximum Likelihood optimization failed to \"\n"
     ]
    }
   ],
   "source": [
    "model_fit = model.fit()"
   ]
  },
  {
   "cell_type": "code",
   "execution_count": 565,
   "id": "92cf58d7-a48e-4c92-bdcd-ccc9d1c72a1b",
   "metadata": {},
   "outputs": [
    {
     "data": {
      "text/html": [
       "<table class=\"simpletable\">\n",
       "<caption>SARIMAX Results</caption>\n",
       "<tr>\n",
       "  <th>Dep. Variable:</th>             <td>auto_loan_k</td>           <th>  No. Observations:  </th>    <td>48</td>   \n",
       "</tr>\n",
       "<tr>\n",
       "  <th>Model:</th>           <td>SARIMAX(12, 1, 1)x(0, 1, 1, 12)</td> <th>  Log Likelihood     </th> <td>-155.175</td>\n",
       "</tr>\n",
       "<tr>\n",
       "  <th>Date:</th>                   <td>Thu, 06 Mar 2025</td>         <th>  AIC                </th>  <td>342.350</td>\n",
       "</tr>\n",
       "<tr>\n",
       "  <th>Time:</th>                       <td>19:17:52</td>             <th>  BIC                </th>  <td>367.236</td>\n",
       "</tr>\n",
       "<tr>\n",
       "  <th>Sample:</th>                    <td>01-31-2021</td>            <th>  HQIC               </th>  <td>350.940</td>\n",
       "</tr>\n",
       "<tr>\n",
       "  <th></th>                          <td>- 12-31-2024</td>           <th>                     </th>     <td> </td>   \n",
       "</tr>\n",
       "<tr>\n",
       "  <th>Covariance Type:</th>               <td>opg</td>               <th>                     </th>     <td> </td>   \n",
       "</tr>\n",
       "</table>\n",
       "<table class=\"simpletable\">\n",
       "<tr>\n",
       "        <td></td>          <th>coef</th>     <th>std err</th>      <th>z</th>      <th>P>|z|</th>  <th>[0.025</th>    <th>0.975]</th>  \n",
       "</tr>\n",
       "<tr>\n",
       "  <th>cbr_key_rate</th> <td>   -3.5356</td> <td>    1.332</td> <td>   -2.653</td> <td> 0.008</td> <td>   -6.147</td> <td>   -0.924</td>\n",
       "</tr>\n",
       "<tr>\n",
       "  <th>ar.L1</th>        <td>    0.4277</td> <td>    0.316</td> <td>    1.355</td> <td> 0.175</td> <td>   -0.191</td> <td>    1.046</td>\n",
       "</tr>\n",
       "<tr>\n",
       "  <th>ar.L2</th>        <td>    0.1339</td> <td>    0.344</td> <td>    0.390</td> <td> 0.697</td> <td>   -0.540</td> <td>    0.808</td>\n",
       "</tr>\n",
       "<tr>\n",
       "  <th>ar.L3</th>        <td>    0.2010</td> <td>    0.258</td> <td>    0.779</td> <td> 0.436</td> <td>   -0.305</td> <td>    0.707</td>\n",
       "</tr>\n",
       "<tr>\n",
       "  <th>ar.L4</th>        <td>   -0.0273</td> <td>    0.309</td> <td>   -0.088</td> <td> 0.930</td> <td>   -0.633</td> <td>    0.579</td>\n",
       "</tr>\n",
       "<tr>\n",
       "  <th>ar.L5</th>        <td>   -0.0543</td> <td>    0.423</td> <td>   -0.128</td> <td> 0.898</td> <td>   -0.884</td> <td>    0.776</td>\n",
       "</tr>\n",
       "<tr>\n",
       "  <th>ar.L6</th>        <td>    0.0985</td> <td>    0.482</td> <td>    0.204</td> <td> 0.838</td> <td>   -0.846</td> <td>    1.043</td>\n",
       "</tr>\n",
       "<tr>\n",
       "  <th>ar.L7</th>        <td>    0.0893</td> <td>    0.429</td> <td>    0.208</td> <td> 0.835</td> <td>   -0.751</td> <td>    0.930</td>\n",
       "</tr>\n",
       "<tr>\n",
       "  <th>ar.L8</th>        <td>   -0.1699</td> <td>    0.207</td> <td>   -0.819</td> <td> 0.413</td> <td>   -0.577</td> <td>    0.237</td>\n",
       "</tr>\n",
       "<tr>\n",
       "  <th>ar.L9</th>        <td>    0.1336</td> <td>    0.433</td> <td>    0.309</td> <td> 0.757</td> <td>   -0.714</td> <td>    0.981</td>\n",
       "</tr>\n",
       "<tr>\n",
       "  <th>ar.L10</th>       <td>    0.0222</td> <td>    0.390</td> <td>    0.057</td> <td> 0.955</td> <td>   -0.743</td> <td>    0.787</td>\n",
       "</tr>\n",
       "<tr>\n",
       "  <th>ar.L11</th>       <td>    0.3630</td> <td>    0.238</td> <td>    1.523</td> <td> 0.128</td> <td>   -0.104</td> <td>    0.830</td>\n",
       "</tr>\n",
       "<tr>\n",
       "  <th>ar.L12</th>       <td>   -0.7750</td> <td>    0.274</td> <td>   -2.829</td> <td> 0.005</td> <td>   -1.312</td> <td>   -0.238</td>\n",
       "</tr>\n",
       "<tr>\n",
       "  <th>ma.L1</th>        <td>   -0.9713</td> <td>    0.763</td> <td>   -1.273</td> <td> 0.203</td> <td>   -2.467</td> <td>    0.524</td>\n",
       "</tr>\n",
       "<tr>\n",
       "  <th>ma.S.L12</th>     <td>    0.5679</td> <td>    0.857</td> <td>    0.663</td> <td> 0.508</td> <td>   -1.112</td> <td>    2.248</td>\n",
       "</tr>\n",
       "<tr>\n",
       "  <th>sigma2</th>       <td>  292.3066</td> <td>  208.206</td> <td>    1.404</td> <td> 0.160</td> <td> -115.770</td> <td>  700.383</td>\n",
       "</tr>\n",
       "</table>\n",
       "<table class=\"simpletable\">\n",
       "<tr>\n",
       "  <th>Ljung-Box (L1) (Q):</th>     <td>0.06</td> <th>  Jarque-Bera (JB):  </th> <td>0.56</td>\n",
       "</tr>\n",
       "<tr>\n",
       "  <th>Prob(Q):</th>                <td>0.81</td> <th>  Prob(JB):          </th> <td>0.76</td>\n",
       "</tr>\n",
       "<tr>\n",
       "  <th>Heteroskedasticity (H):</th> <td>0.96</td> <th>  Skew:              </th> <td>0.12</td>\n",
       "</tr>\n",
       "<tr>\n",
       "  <th>Prob(H) (two-sided):</th>    <td>0.94</td> <th>  Kurtosis:          </th> <td>3.57</td>\n",
       "</tr>\n",
       "</table><br/><br/>Warnings:<br/>[1] Covariance matrix calculated using the outer product of gradients (complex-step)."
      ],
      "text/latex": [
       "\\begin{center}\n",
       "\\begin{tabular}{lclc}\n",
       "\\toprule\n",
       "\\textbf{Dep. Variable:}          &          auto\\_loan\\_k          & \\textbf{  No. Observations:  } &     48      \\\\\n",
       "\\textbf{Model:}                  & SARIMAX(12, 1, 1)x(0, 1, 1, 12) & \\textbf{  Log Likelihood     } &  -155.175   \\\\\n",
       "\\textbf{Date:}                   &         Thu, 06 Mar 2025        & \\textbf{  AIC                } &  342.350    \\\\\n",
       "\\textbf{Time:}                   &             19:17:52            & \\textbf{  BIC                } &  367.236    \\\\\n",
       "\\textbf{Sample:}                 &            01-31-2021           & \\textbf{  HQIC               } &  350.940    \\\\\n",
       "\\textbf{}                        &           - 12-31-2024          & \\textbf{                     } &             \\\\\n",
       "\\textbf{Covariance Type:}        &               opg               & \\textbf{                     } &             \\\\\n",
       "\\bottomrule\n",
       "\\end{tabular}\n",
       "\\begin{tabular}{lcccccc}\n",
       "                        & \\textbf{coef} & \\textbf{std err} & \\textbf{z} & \\textbf{P$> |$z$|$} & \\textbf{[0.025} & \\textbf{0.975]}  \\\\\n",
       "\\midrule\n",
       "\\textbf{cbr\\_key\\_rate} &      -3.5356  &        1.332     &    -2.653  &         0.008        &       -6.147    &       -0.924     \\\\\n",
       "\\textbf{ar.L1}          &       0.4277  &        0.316     &     1.355  &         0.175        &       -0.191    &        1.046     \\\\\n",
       "\\textbf{ar.L2}          &       0.1339  &        0.344     &     0.390  &         0.697        &       -0.540    &        0.808     \\\\\n",
       "\\textbf{ar.L3}          &       0.2010  &        0.258     &     0.779  &         0.436        &       -0.305    &        0.707     \\\\\n",
       "\\textbf{ar.L4}          &      -0.0273  &        0.309     &    -0.088  &         0.930        &       -0.633    &        0.579     \\\\\n",
       "\\textbf{ar.L5}          &      -0.0543  &        0.423     &    -0.128  &         0.898        &       -0.884    &        0.776     \\\\\n",
       "\\textbf{ar.L6}          &       0.0985  &        0.482     &     0.204  &         0.838        &       -0.846    &        1.043     \\\\\n",
       "\\textbf{ar.L7}          &       0.0893  &        0.429     &     0.208  &         0.835        &       -0.751    &        0.930     \\\\\n",
       "\\textbf{ar.L8}          &      -0.1699  &        0.207     &    -0.819  &         0.413        &       -0.577    &        0.237     \\\\\n",
       "\\textbf{ar.L9}          &       0.1336  &        0.433     &     0.309  &         0.757        &       -0.714    &        0.981     \\\\\n",
       "\\textbf{ar.L10}         &       0.0222  &        0.390     &     0.057  &         0.955        &       -0.743    &        0.787     \\\\\n",
       "\\textbf{ar.L11}         &       0.3630  &        0.238     &     1.523  &         0.128        &       -0.104    &        0.830     \\\\\n",
       "\\textbf{ar.L12}         &      -0.7750  &        0.274     &    -2.829  &         0.005        &       -1.312    &       -0.238     \\\\\n",
       "\\textbf{ma.L1}          &      -0.9713  &        0.763     &    -1.273  &         0.203        &       -2.467    &        0.524     \\\\\n",
       "\\textbf{ma.S.L12}       &       0.5679  &        0.857     &     0.663  &         0.508        &       -1.112    &        2.248     \\\\\n",
       "\\textbf{sigma2}         &     292.3066  &      208.206     &     1.404  &         0.160        &     -115.770    &      700.383     \\\\\n",
       "\\bottomrule\n",
       "\\end{tabular}\n",
       "\\begin{tabular}{lclc}\n",
       "\\textbf{Ljung-Box (L1) (Q):}     & 0.06 & \\textbf{  Jarque-Bera (JB):  } & 0.56  \\\\\n",
       "\\textbf{Prob(Q):}                & 0.81 & \\textbf{  Prob(JB):          } & 0.76  \\\\\n",
       "\\textbf{Heteroskedasticity (H):} & 0.96 & \\textbf{  Skew:              } & 0.12  \\\\\n",
       "\\textbf{Prob(H) (two-sided):}    & 0.94 & \\textbf{  Kurtosis:          } & 3.57  \\\\\n",
       "\\bottomrule\n",
       "\\end{tabular}\n",
       "%\\caption{SARIMAX Results}\n",
       "\\end{center}\n",
       "\n",
       "Warnings: \\newline\n",
       " [1] Covariance matrix calculated using the outer product of gradients (complex-step)."
      ],
      "text/plain": [
       "<class 'statsmodels.iolib.summary.Summary'>\n",
       "\"\"\"\n",
       "                                      SARIMAX Results                                      \n",
       "===========================================================================================\n",
       "Dep. Variable:                         auto_loan_k   No. Observations:                   48\n",
       "Model:             SARIMAX(12, 1, 1)x(0, 1, 1, 12)   Log Likelihood                -155.175\n",
       "Date:                             Thu, 06 Mar 2025   AIC                            342.350\n",
       "Time:                                     19:17:52   BIC                            367.236\n",
       "Sample:                                 01-31-2021   HQIC                           350.940\n",
       "                                      - 12-31-2024                                         \n",
       "Covariance Type:                               opg                                         \n",
       "================================================================================\n",
       "                   coef    std err          z      P>|z|      [0.025      0.975]\n",
       "--------------------------------------------------------------------------------\n",
       "cbr_key_rate    -3.5356      1.332     -2.653      0.008      -6.147      -0.924\n",
       "ar.L1            0.4277      0.316      1.355      0.175      -0.191       1.046\n",
       "ar.L2            0.1339      0.344      0.390      0.697      -0.540       0.808\n",
       "ar.L3            0.2010      0.258      0.779      0.436      -0.305       0.707\n",
       "ar.L4           -0.0273      0.309     -0.088      0.930      -0.633       0.579\n",
       "ar.L5           -0.0543      0.423     -0.128      0.898      -0.884       0.776\n",
       "ar.L6            0.0985      0.482      0.204      0.838      -0.846       1.043\n",
       "ar.L7            0.0893      0.429      0.208      0.835      -0.751       0.930\n",
       "ar.L8           -0.1699      0.207     -0.819      0.413      -0.577       0.237\n",
       "ar.L9            0.1336      0.433      0.309      0.757      -0.714       0.981\n",
       "ar.L10           0.0222      0.390      0.057      0.955      -0.743       0.787\n",
       "ar.L11           0.3630      0.238      1.523      0.128      -0.104       0.830\n",
       "ar.L12          -0.7750      0.274     -2.829      0.005      -1.312      -0.238\n",
       "ma.L1           -0.9713      0.763     -1.273      0.203      -2.467       0.524\n",
       "ma.S.L12         0.5679      0.857      0.663      0.508      -1.112       2.248\n",
       "sigma2         292.3066    208.206      1.404      0.160    -115.770     700.383\n",
       "===================================================================================\n",
       "Ljung-Box (L1) (Q):                   0.06   Jarque-Bera (JB):                 0.56\n",
       "Prob(Q):                              0.81   Prob(JB):                         0.76\n",
       "Heteroskedasticity (H):               0.96   Skew:                             0.12\n",
       "Prob(H) (two-sided):                  0.94   Kurtosis:                         3.57\n",
       "===================================================================================\n",
       "\n",
       "Warnings:\n",
       "[1] Covariance matrix calculated using the outer product of gradients (complex-step).\n",
       "\"\"\""
      ]
     },
     "execution_count": 565,
     "metadata": {},
     "output_type": "execute_result"
    }
   ],
   "source": [
    "#summary of the model\n",
    "model_fit.summary()"
   ]
  },
  {
   "cell_type": "code",
   "execution_count": 566,
   "id": "bc351f05-5860-4857-81a1-b1e19e70199d",
   "metadata": {},
   "outputs": [],
   "source": [
    "# #get the predictions and residuals\n",
    "# predictions = model_fit.forecast(auto_analysis_df.index)\n",
    "# predictions = pd.Series(predictions, index=train_data.index)\n",
    "# residuals = train_data - predictions"
   ]
  },
  {
   "cell_type": "code",
   "execution_count": 567,
   "id": "e5e33b78-951a-454d-b71b-782bdd56245a",
   "metadata": {},
   "outputs": [],
   "source": [
    "# plt.figure(figsize=(10,4))\n",
    "# plt.plot(residuals)\n",
    "# plt.axhline(0, linestyle='--', color='k')\n",
    "# plt.title('Residuals from SARIMA Model', fontsize=20)\n",
    "# plt.ylabel('Error', fontsize=16)"
   ]
  },
  {
   "cell_type": "code",
   "execution_count": 568,
   "id": "3ba1484b-c88b-4c09-b61c-cc37d08acfce",
   "metadata": {},
   "outputs": [],
   "source": [
    "# plt.figure(figsize=(10,4))\n",
    "\n",
    "# plt.plot(auto_analysis_df['auto_loan_k'])\n",
    "# plt.plot(predictions)\n",
    "\n",
    "# plt.legend(('Data', 'Predictions'), fontsize=16)\n",
    "\n",
    "# plt.title('auto loans in 1000s of contracts', fontsize=20)\n",
    "# plt.ylabel('auto loans', fontsize=16)\n",
    "# for year in range(start_date.year,end_date.year):\n",
    "#     plt.axvline(pd.to_datetime(str(year)+'-01-01'), color='k', linestyle='--', alpha=0.2)"
   ]
  },
  {
   "cell_type": "code",
   "execution_count": 569,
   "id": "32d12b5b-3b88-429f-ba92-ba92eef93d5a",
   "metadata": {},
   "outputs": [],
   "source": [
    "# Forecast the next 12 steps\n",
    "forecast_steps = 12\n",
    "\n",
    "future_exog = np.ones(12)*key_rate\n",
    "\n",
    "forecast = model_fit.get_forecast(steps=forecast_steps\n",
    "                                  , exog=future_exog.reshape(-1, 1)\n",
    "                                 )\n",
    "forecast_mean = forecast.predicted_mean\n",
    "forecast_ci = forecast.conf_int()\n",
    "\n",
    "# Create a DataFrame for the forecast\n",
    "# forecast_index = pd.date_range(start=df.index[-1] + pd.Timedelta(days=1), periods=forecast_steps, freq='M')\n",
    "forecast_df = pd.DataFrame(forecast_mean).rename(columns={'predicted_mean': 'Forecast'})\n",
    "\n",
    "# Combine the original data and the forecast\n",
    "combined_df = pd.concat([x_df, forecast_df], axis=0)\n",
    "\n",
    "# Display the forecast\n",
    "# print(forecast_df)"
   ]
  },
  {
   "cell_type": "code",
   "execution_count": 570,
   "id": "6eb7d844-2a18-465b-8107-d91384040a10",
   "metadata": {},
   "outputs": [
    {
     "data": {
      "image/png": "[encoded data removed]",
      "text/plain": [
       "<Figure size 1000x600 with 1 Axes>"
      ]
     },
     "metadata": {},
     "output_type": "display_data"
    }
   ],
   "source": [
    "plt.figure(figsize=(10, 6))\n",
    "plt.plot(combined_df.index, combined_df[x_df.name], label='Observed')\n",
    "plt.plot(forecast_df.index, forecast_df['Forecast'], label='Forecast', color='red')\n",
    "plt.fill_between(forecast_ci.index, forecast_ci.iloc[:, 0], forecast_ci.iloc[:, 1], color='pink', alpha=0.3)\n",
    "plt.title('SARIMAX Forecast with Exogenous Regressor')\n",
    "plt.xlabel('Дата')\n",
    "plt.ylabel(x_name)\n",
    "plt.legend()\n",
    "for year in range(start_date.year,end_date.year+2):\n",
    "    plt.axvline(pd.to_datetime(str(year)+'-01-01'), color='k', linestyle='--', alpha=0.2)\n",
    "plt.show()"
   ]
  },
  {
   "cell_type": "code",
   "execution_count": null,
   "id": "da857f48-d30d-4f12-bc7f-ab6ac71fdd2f",
   "metadata": {},
   "outputs": [],
   "source": []
  },
  {
   "cell_type": "code",
   "execution_count": 571,
   "id": "29b01f12-3e54-4194-88e6-a2cc5b6059d9",
   "metadata": {},
   "outputs": [
    {
     "name": "stderr",
     "output_type": "stream",
     "text": [
      "C:\\Users\\klyukin\\AppData\\Local\\anaconda3\\Lib\\site-packages\\statsmodels\\tsa\\base\\tsa_model.py:473: ValueWarning: No frequency information was provided, so inferred frequency ME will be used.\n",
      "  self._init_dates(dates, freq)\n",
      "C:\\Users\\klyukin\\AppData\\Local\\anaconda3\\Lib\\site-packages\\statsmodels\\tsa\\base\\tsa_model.py:473: ValueWarning: No frequency information was provided, so inferred frequency ME will be used.\n",
      "  self._init_dates(dates, freq)\n",
      "C:\\Users\\klyukin\\AppData\\Local\\anaconda3\\Lib\\site-packages\\statsmodels\\tsa\\statespace\\sarimax.py:866: UserWarning: Too few observations to estimate starting parameters for seasonal ARMA. All parameters except for variances will be set to zeros.\n",
      "  warn('Too few observations to estimate starting parameters%s.'\n",
      "C:\\Users\\klyukin\\AppData\\Local\\anaconda3\\Lib\\site-packages\\statsmodels\\base\\model.py:607: ConvergenceWarning: Maximum Likelihood optimization failed to converge. Check mle_retvals\n",
      "  warnings.warn(\"Maximum Likelihood optimization failed to \"\n"
     ]
    },
    {
     "data": {
      "text/html": [
       "<table class=\"simpletable\">\n",
       "<caption>SARIMAX Results</caption>\n",
       "<tr>\n",
       "  <th>Dep. Variable:</th>            <td>auto_register_k</td>          <th>  No. Observations:  </th>    <td>48</td>   \n",
       "</tr>\n",
       "<tr>\n",
       "  <th>Model:</th>           <td>SARIMAX(12, 1, 0)x(0, 1, [1], 12)</td> <th>  Log Likelihood     </th> <td>-183.414</td>\n",
       "</tr>\n",
       "<tr>\n",
       "  <th>Date:</th>                    <td>Thu, 06 Mar 2025</td>          <th>  AIC                </th>  <td>398.829</td>\n",
       "</tr>\n",
       "<tr>\n",
       "  <th>Time:</th>                        <td>19:17:53</td>              <th>  BIC                </th>  <td>423.714</td>\n",
       "</tr>\n",
       "<tr>\n",
       "  <th>Sample:</th>                     <td>01-31-2021</td>             <th>  HQIC               </th>  <td>407.419</td>\n",
       "</tr>\n",
       "<tr>\n",
       "  <th></th>                           <td>- 12-31-2024</td>            <th>                     </th>     <td> </td>   \n",
       "</tr>\n",
       "<tr>\n",
       "  <th>Covariance Type:</th>                <td>opg</td>                <th>                     </th>     <td> </td>   \n",
       "</tr>\n",
       "</table>\n",
       "<table class=\"simpletable\">\n",
       "<tr>\n",
       "        <td></td>          <th>coef</th>     <th>std err</th>      <th>z</th>      <th>P>|z|</th>  <th>[0.025</th>    <th>0.975]</th>  \n",
       "</tr>\n",
       "<tr>\n",
       "  <th>auto_loan_k</th>  <td>    1.5140</td> <td>    0.462</td> <td>    3.278</td> <td> 0.001</td> <td>    0.609</td> <td>    2.419</td>\n",
       "</tr>\n",
       "<tr>\n",
       "  <th>cbr_key_rate</th> <td>    7.0570</td> <td>    3.241</td> <td>    2.177</td> <td> 0.029</td> <td>    0.705</td> <td>   13.409</td>\n",
       "</tr>\n",
       "<tr>\n",
       "  <th>ar.L1</th>        <td>   -0.3531</td> <td>    0.392</td> <td>   -0.902</td> <td> 0.367</td> <td>   -1.120</td> <td>    0.414</td>\n",
       "</tr>\n",
       "<tr>\n",
       "  <th>ar.L2</th>        <td>    0.2671</td> <td>    0.358</td> <td>    0.745</td> <td> 0.456</td> <td>   -0.435</td> <td>    0.969</td>\n",
       "</tr>\n",
       "<tr>\n",
       "  <th>ar.L3</th>        <td>    0.1019</td> <td>    0.353</td> <td>    0.289</td> <td> 0.773</td> <td>   -0.590</td> <td>    0.794</td>\n",
       "</tr>\n",
       "<tr>\n",
       "  <th>ar.L4</th>        <td>   -0.2610</td> <td>    0.496</td> <td>   -0.526</td> <td> 0.599</td> <td>   -1.233</td> <td>    0.711</td>\n",
       "</tr>\n",
       "<tr>\n",
       "  <th>ar.L5</th>        <td>   -0.2740</td> <td>    0.372</td> <td>   -0.736</td> <td> 0.462</td> <td>   -1.003</td> <td>    0.456</td>\n",
       "</tr>\n",
       "<tr>\n",
       "  <th>ar.L6</th>        <td>    0.2775</td> <td>    0.410</td> <td>    0.677</td> <td> 0.498</td> <td>   -0.526</td> <td>    1.081</td>\n",
       "</tr>\n",
       "<tr>\n",
       "  <th>ar.L7</th>        <td>   -0.2602</td> <td>    0.256</td> <td>   -1.017</td> <td> 0.309</td> <td>   -0.762</td> <td>    0.241</td>\n",
       "</tr>\n",
       "<tr>\n",
       "  <th>ar.L8</th>        <td>   -0.0864</td> <td>    0.511</td> <td>   -0.169</td> <td> 0.866</td> <td>   -1.089</td> <td>    0.916</td>\n",
       "</tr>\n",
       "<tr>\n",
       "  <th>ar.L9</th>        <td>    0.1369</td> <td>    0.267</td> <td>    0.512</td> <td> 0.608</td> <td>   -0.387</td> <td>    0.660</td>\n",
       "</tr>\n",
       "<tr>\n",
       "  <th>ar.L10</th>       <td>   -0.1800</td> <td>    0.483</td> <td>   -0.373</td> <td> 0.709</td> <td>   -1.126</td> <td>    0.766</td>\n",
       "</tr>\n",
       "<tr>\n",
       "  <th>ar.L11</th>       <td>   -0.2830</td> <td>    0.378</td> <td>   -0.748</td> <td> 0.455</td> <td>   -1.025</td> <td>    0.459</td>\n",
       "</tr>\n",
       "<tr>\n",
       "  <th>ar.L12</th>       <td>   -0.2611</td> <td>    0.422</td> <td>   -0.619</td> <td> 0.536</td> <td>   -1.087</td> <td>    0.565</td>\n",
       "</tr>\n",
       "<tr>\n",
       "  <th>ma.S.L12</th>     <td>   -0.8435</td> <td>    3.551</td> <td>   -0.238</td> <td> 0.812</td> <td>   -7.804</td> <td>    6.117</td>\n",
       "</tr>\n",
       "<tr>\n",
       "  <th>sigma2</th>       <td> 1188.6350</td> <td> 4081.284</td> <td>    0.291</td> <td> 0.771</td> <td>-6810.535</td> <td> 9187.805</td>\n",
       "</tr>\n",
       "</table>\n",
       "<table class=\"simpletable\">\n",
       "<tr>\n",
       "  <th>Ljung-Box (L1) (Q):</th>     <td>0.46</td> <th>  Jarque-Bera (JB):  </th> <td>1.66</td> \n",
       "</tr>\n",
       "<tr>\n",
       "  <th>Prob(Q):</th>                <td>0.50</td> <th>  Prob(JB):          </th> <td>0.44</td> \n",
       "</tr>\n",
       "<tr>\n",
       "  <th>Heteroskedasticity (H):</th> <td>1.06</td> <th>  Skew:              </th> <td>-0.42</td>\n",
       "</tr>\n",
       "<tr>\n",
       "  <th>Prob(H) (two-sided):</th>    <td>0.92</td> <th>  Kurtosis:          </th> <td>3.66</td> \n",
       "</tr>\n",
       "</table><br/><br/>Warnings:<br/>[1] Covariance matrix calculated using the outer product of gradients (complex-step)."
      ],
      "text/latex": [
       "\\begin{center}\n",
       "\\begin{tabular}{lclc}\n",
       "\\toprule\n",
       "\\textbf{Dep. Variable:}          &         auto\\_register\\_k         & \\textbf{  No. Observations:  } &     48      \\\\\n",
       "\\textbf{Model:}                  & SARIMAX(12, 1, 0)x(0, 1, [1], 12) & \\textbf{  Log Likelihood     } &  -183.414   \\\\\n",
       "\\textbf{Date:}                   &          Thu, 06 Mar 2025         & \\textbf{  AIC                } &  398.829    \\\\\n",
       "\\textbf{Time:}                   &              19:17:53             & \\textbf{  BIC                } &  423.714    \\\\\n",
       "\\textbf{Sample:}                 &             01-31-2021            & \\textbf{  HQIC               } &  407.419    \\\\\n",
       "\\textbf{}                        &            - 12-31-2024           & \\textbf{                     } &             \\\\\n",
       "\\textbf{Covariance Type:}        &                opg                & \\textbf{                     } &             \\\\\n",
       "\\bottomrule\n",
       "\\end{tabular}\n",
       "\\begin{tabular}{lcccccc}\n",
       "                        & \\textbf{coef} & \\textbf{std err} & \\textbf{z} & \\textbf{P$> |$z$|$} & \\textbf{[0.025} & \\textbf{0.975]}  \\\\\n",
       "\\midrule\n",
       "\\textbf{auto\\_loan\\_k}  &       1.5140  &        0.462     &     3.278  &         0.001        &        0.609    &        2.419     \\\\\n",
       "\\textbf{cbr\\_key\\_rate} &       7.0570  &        3.241     &     2.177  &         0.029        &        0.705    &       13.409     \\\\\n",
       "\\textbf{ar.L1}          &      -0.3531  &        0.392     &    -0.902  &         0.367        &       -1.120    &        0.414     \\\\\n",
       "\\textbf{ar.L2}          &       0.2671  &        0.358     &     0.745  &         0.456        &       -0.435    &        0.969     \\\\\n",
       "\\textbf{ar.L3}          &       0.1019  &        0.353     &     0.289  &         0.773        &       -0.590    &        0.794     \\\\\n",
       "\\textbf{ar.L4}          &      -0.2610  &        0.496     &    -0.526  &         0.599        &       -1.233    &        0.711     \\\\\n",
       "\\textbf{ar.L5}          &      -0.2740  &        0.372     &    -0.736  &         0.462        &       -1.003    &        0.456     \\\\\n",
       "\\textbf{ar.L6}          &       0.2775  &        0.410     &     0.677  &         0.498        &       -0.526    &        1.081     \\\\\n",
       "\\textbf{ar.L7}          &      -0.2602  &        0.256     &    -1.017  &         0.309        &       -0.762    &        0.241     \\\\\n",
       "\\textbf{ar.L8}          &      -0.0864  &        0.511     &    -0.169  &         0.866        &       -1.089    &        0.916     \\\\\n",
       "\\textbf{ar.L9}          &       0.1369  &        0.267     &     0.512  &         0.608        &       -0.387    &        0.660     \\\\\n",
       "\\textbf{ar.L10}         &      -0.1800  &        0.483     &    -0.373  &         0.709        &       -1.126    &        0.766     \\\\\n",
       "\\textbf{ar.L11}         &      -0.2830  &        0.378     &    -0.748  &         0.455        &       -1.025    &        0.459     \\\\\n",
       "\\textbf{ar.L12}         &      -0.2611  &        0.422     &    -0.619  &         0.536        &       -1.087    &        0.565     \\\\\n",
       "\\textbf{ma.S.L12}       &      -0.8435  &        3.551     &    -0.238  &         0.812        &       -7.804    &        6.117     \\\\\n",
       "\\textbf{sigma2}         &    1188.6350  &     4081.284     &     0.291  &         0.771        &    -6810.535    &     9187.805     \\\\\n",
       "\\bottomrule\n",
       "\\end{tabular}\n",
       "\\begin{tabular}{lclc}\n",
       "\\textbf{Ljung-Box (L1) (Q):}     & 0.46 & \\textbf{  Jarque-Bera (JB):  } &  1.66  \\\\\n",
       "\\textbf{Prob(Q):}                & 0.50 & \\textbf{  Prob(JB):          } &  0.44  \\\\\n",
       "\\textbf{Heteroskedasticity (H):} & 1.06 & \\textbf{  Skew:              } & -0.42  \\\\\n",
       "\\textbf{Prob(H) (two-sided):}    & 0.92 & \\textbf{  Kurtosis:          } &  3.66  \\\\\n",
       "\\bottomrule\n",
       "\\end{tabular}\n",
       "%\\caption{SARIMAX Results}\n",
       "\\end{center}\n",
       "\n",
       "Warnings: \\newline\n",
       " [1] Covariance matrix calculated using the outer product of gradients (complex-step)."
      ],
      "text/plain": [
       "<class 'statsmodels.iolib.summary.Summary'>\n",
       "\"\"\"\n",
       "                                       SARIMAX Results                                       \n",
       "=============================================================================================\n",
       "Dep. Variable:                       auto_register_k   No. Observations:                   48\n",
       "Model:             SARIMAX(12, 1, 0)x(0, 1, [1], 12)   Log Likelihood                -183.414\n",
       "Date:                               Thu, 06 Mar 2025   AIC                            398.829\n",
       "Time:                                       19:17:53   BIC                            423.714\n",
       "Sample:                                   01-31-2021   HQIC                           407.419\n",
       "                                        - 12-31-2024                                         \n",
       "Covariance Type:                                 opg                                         \n",
       "================================================================================\n",
       "                   coef    std err          z      P>|z|      [0.025      0.975]\n",
       "--------------------------------------------------------------------------------\n",
       "auto_loan_k      1.5140      0.462      3.278      0.001       0.609       2.419\n",
       "cbr_key_rate     7.0570      3.241      2.177      0.029       0.705      13.409\n",
       "ar.L1           -0.3531      0.392     -0.902      0.367      -1.120       0.414\n",
       "ar.L2            0.2671      0.358      0.745      0.456      -0.435       0.969\n",
       "ar.L3            0.1019      0.353      0.289      0.773      -0.590       0.794\n",
       "ar.L4           -0.2610      0.496     -0.526      0.599      -1.233       0.711\n",
       "ar.L5           -0.2740      0.372     -0.736      0.462      -1.003       0.456\n",
       "ar.L6            0.2775      0.410      0.677      0.498      -0.526       1.081\n",
       "ar.L7           -0.2602      0.256     -1.017      0.309      -0.762       0.241\n",
       "ar.L8           -0.0864      0.511     -0.169      0.866      -1.089       0.916\n",
       "ar.L9            0.1369      0.267      0.512      0.608      -0.387       0.660\n",
       "ar.L10          -0.1800      0.483     -0.373      0.709      -1.126       0.766\n",
       "ar.L11          -0.2830      0.378     -0.748      0.455      -1.025       0.459\n",
       "ar.L12          -0.2611      0.422     -0.619      0.536      -1.087       0.565\n",
       "ma.S.L12        -0.8435      3.551     -0.238      0.812      -7.804       6.117\n",
       "sigma2        1188.6350   4081.284      0.291      0.771   -6810.535    9187.805\n",
       "===================================================================================\n",
       "Ljung-Box (L1) (Q):                   0.46   Jarque-Bera (JB):                 1.66\n",
       "Prob(Q):                              0.50   Prob(JB):                         0.44\n",
       "Heteroskedasticity (H):               1.06   Skew:                            -0.42\n",
       "Prob(H) (two-sided):                  0.92   Kurtosis:                         3.66\n",
       "===================================================================================\n",
       "\n",
       "Warnings:\n",
       "[1] Covariance matrix calculated using the outer product of gradients (complex-step).\n",
       "\"\"\""
      ]
     },
     "execution_count": 571,
     "metadata": {},
     "output_type": "execute_result"
    }
   ],
   "source": [
    "# from statsmodels.tsa.statespace.sarimax import SARIMAX\n",
    "\n",
    "# Define the model\n",
    "# SARIMAX(order=(p, d, q), seasonal_order=(P, D, Q, S), exog=exogenous_data)\n",
    "model = SARIMAX(\n",
    "    y_df,  # Endogenous variable (the time series to predict)\n",
    "    exog = pd.concat([x_df, auto_analysis_df['cbr_key_rate']], axis=1),  # Exogenous variable\n",
    "    order=(12, 1, 0),  # Non-seasonal order (p, d, q)\n",
    "    seasonal_order=(0, 1, 1, 12)  # Seasonal order (P, D, Q, S)\n",
    ")\n",
    "\n",
    "# Fit the model\n",
    "results = model.fit(disp=False)\n",
    "\n",
    "# Display the summary of the model\n",
    "results.summary()"
   ]
  },
  {
   "cell_type": "code",
   "execution_count": 572,
   "id": "ed5c4048-72a0-4ea0-8409-ac770cf75a24",
   "metadata": {},
   "outputs": [],
   "source": [
    "# Forecast the next 12 steps\n",
    "forecast_steps = 12\n",
    "\n",
    "# Create future values for the exogenous variable\n",
    "future_exog_1 = combined_df[-12:]['Forecast'].values  # Simulate future exogenous values\n",
    "future_exog_2 = np.ones(12)*key_rate\n",
    "future_exog = np.column_stack((future_exog_1, future_exog_2))\n",
    "\n",
    "# Forecast\n",
    "forecast = results.get_forecast(steps=forecast_steps, exog=future_exog.reshape(-1, 1))\n",
    "forecast_mean = forecast.predicted_mean\n",
    "forecast_ci = forecast.conf_int()\n",
    "\n",
    "# Create a DataFrame for the forecast\n",
    "# forecast_index = pd.date_range(start=df.index[-1] + pd.Timedelta(days=1), periods=forecast_steps, freq='M')\n",
    "forecast_df = pd.DataFrame(forecast_mean).rename(columns={'predicted_mean': 'Forecast'})\n",
    "\n",
    "# Combine the original data and the forecast\n",
    "combined_df = pd.concat([y_df, forecast_df], axis=0)"
   ]
  },
  {
   "cell_type": "code",
   "execution_count": 573,
   "id": "0d5c0da5-1a36-4deb-89ef-0b49f45cfd6d",
   "metadata": {},
   "outputs": [
    {
     "data": {
      "image/png": "[encoded data removed]",
      "text/plain": [
       "<Figure size 1200x600 with 1 Axes>"
      ]
     },
     "metadata": {},
     "output_type": "display_data"
    }
   ],
   "source": [
    "plt.figure(figsize=(12, 6))\n",
    "plt.plot(combined_df.index, combined_df[y_df.name], label='Observed')\n",
    "plt.plot(forecast_df.index, forecast_df['Forecast'], label='Forecast', color='red')\n",
    "plt.fill_between(forecast_ci.index, forecast_ci.iloc[:, 0], forecast_ci.iloc[:, 1], color='pink', alpha=0.3)\n",
    "plt.title('SARIMAX Forecast with Exogenous Regressor')\n",
    "plt.xlabel('Дата')\n",
    "plt.ylabel(y_name)\n",
    "plt.legend()\n",
    "plt.show()"
   ]
  },
  {
   "cell_type": "code",
   "execution_count": null,
   "id": "90b6c650-652f-4691-87a3-bc4a3a2b078f",
   "metadata": {},
   "outputs": [],
   "source": []
  },
  {
   "cell_type": "code",
   "execution_count": 574,
   "id": "89681794-b184-4192-a2b9-48b94c46706d",
   "metadata": {},
   "outputs": [],
   "source": [
    "forecast_ci.to_excel(r\"forecast_ci.xlsx\", index=True)"
   ]
  },
  {
   "cell_type": "code",
   "execution_count": 575,
   "id": "4f059180-74ba-4be1-8117-f7325a75ce4d",
   "metadata": {},
   "outputs": [],
   "source": [
    "combined_df.to_excel(r\"combined_df.xlsx\", index=True)"
   ]
  },
  {
   "cell_type": "code",
   "execution_count": null,
   "id": "06ad928c-03a4-4f2f-9379-92d22fc5821c",
   "metadata": {},
   "outputs": [],
   "source": []
  },
  {
   "cell_type": "code",
   "execution_count": null,
   "id": "a734c1e6-114b-40f8-84df-fd3535998071",
   "metadata": {},
   "outputs": [],
   "source": []
  },
  {
   "cell_type": "code",
   "execution_count": null,
   "id": "2a24d340-ac6d-4054-bae3-ba77de9e85bb",
   "metadata": {},
   "outputs": [],
   "source": []
  },
  {
   "cell_type": "code",
   "execution_count": null,
   "id": "5743829f-433e-4042-bd58-dbbb00a07e9a",
   "metadata": {},
   "outputs": [],
   "source": []
  },
  {
   "cell_type": "code",
   "execution_count": null,
   "id": "72313471-d0cd-4a87-bf98-bbc216d423c2",
   "metadata": {},
   "outputs": [],
   "source": []
  },
  {
   "cell_type": "code",
   "execution_count": null,
   "id": "49ae35e5-6599-4db1-bda8-4ad3818b50f4",
   "metadata": {},
   "outputs": [],
   "source": []
  },
  {
   "cell_type": "code",
   "execution_count": null,
   "id": "0b0c5940-78e4-4c59-8268-ca3947925f51",
   "metadata": {},
   "outputs": [],
   "source": []
  },
  {
   "cell_type": "code",
   "execution_count": null,
   "id": "9d6e090a-d6e9-471d-a8f4-dcd790982bb0",
   "metadata": {},
   "outputs": [],
   "source": []
  },
  {
   "cell_type": "code",
   "execution_count": null,
   "id": "07368e80-ae6b-4724-8bfa-a5d999fcbb32",
   "metadata": {},
   "outputs": [],
   "source": []
  },
  {
   "cell_type": "code",
   "execution_count": null,
   "id": "be08fa36-0b18-42c7-bced-810a4c224742",
   "metadata": {},
   "outputs": [],
   "source": [
    "import numpy as np\n",
    "import pandas as pd\n",
    "\n",
    "# Create a date range\n",
    "date_range = pd.date_range(start='2020-01-01', periods=100, freq='M')\n",
    "\n",
    "# Create a toy dataset with a seasonal component and trend\n",
    "np.random.seed(42)\n",
    "seasonal_component = 10 * np.sin(2 * np.pi * np.arange(100) / 12)\n",
    "trend_component = 0.5 * np.arange(100)\n",
    "noise = np.random.normal(0, 2, 100)\n",
    "\n",
    "# Create an exogenous variable (e.g., advertising spend)\n",
    "exog_variable = np.random.normal(10, 2, 100)  # Random values for the exogenous variable\n",
    "\n",
    "# Combine components to create the time series\n",
    "data = trend_component + seasonal_component + 0.8 * exog_variable + noise\n",
    "\n",
    "# Create a DataFrame\n",
    "df = pd.DataFrame({'Value': data, 'Exog': exog_variable}, index=date_range)\n",
    "\n",
    "# Display the first few rows\n",
    "print(df.head())"
   ]
  },
  {
   "cell_type": "code",
   "execution_count": null,
   "id": "b8d35b93-fb99-448b-8b29-8d2d623a018b",
   "metadata": {},
   "outputs": [],
   "source": [
    "import matplotlib.pyplot as plt\n",
    "\n",
    "plt.figure(figsize=(12, 6))\n",
    "plt.plot(df.index, df['Value'], label='Value')\n",
    "plt.plot(df.index, df['Exog'], label='Exogenous Variable', linestyle='--')\n",
    "plt.title('Toy Time Series Data with Exogenous Regressor')\n",
    "plt.xlabel('Date')\n",
    "plt.ylabel('Value')\n",
    "plt.legend()\n",
    "plt.show()"
   ]
  },
  {
   "cell_type": "code",
   "execution_count": null,
   "id": "cf52bf52-db2f-43e4-8f7b-ec069ff8f49f",
   "metadata": {},
   "outputs": [],
   "source": [
    "from statsmodels.tsa.statespace.sarimax import SARIMAX\n",
    "\n",
    "# Define the model\n",
    "# SARIMAX(order=(p, d, q), seasonal_order=(P, D, Q, S), exog=exogenous_data)\n",
    "model = SARIMAX(\n",
    "    df['Value'],  # Endogenous variable (the time series to predict)\n",
    "    exog=df['Exog'],  # Exogenous variable\n",
    "    order=(1, 1, 2),  # Non-seasonal order (p, d, q)\n",
    "    seasonal_order=(1, 1, 1, 12)  # Seasonal order (P, D, Q, S)\n",
    ")\n",
    "\n",
    "# Fit the model\n",
    "results = model.fit(disp=False)\n",
    "\n",
    "# Display the summary of the model\n",
    "print(results.summary())"
   ]
  },
  {
   "cell_type": "code",
   "execution_count": null,
   "id": "bcbe5bf1-5085-4a20-93dc-fe6f7e24feaf",
   "metadata": {},
   "outputs": [],
   "source": [
    "future_exog.reshape(-1, 1)"
   ]
  },
  {
   "cell_type": "code",
   "execution_count": null,
   "id": "5051e96d-0291-4795-954b-2ea2021dc69d",
   "metadata": {},
   "outputs": [],
   "source": [
    "# Forecast the next 12 steps\n",
    "forecast_steps = 12\n",
    "\n",
    "# Create future values for the exogenous variable\n",
    "future_exog = np.random.normal(10, 2, forecast_steps)  # Simulate future exogenous values\n",
    "\n",
    "# Forecast\n",
    "forecast = results.get_forecast(steps=forecast_steps, exog=future_exog.reshape(-1, 1))\n",
    "forecast_mean = forecast.predicted_mean\n",
    "forecast_ci = forecast.conf_int()\n",
    "\n",
    "# Create a DataFrame for the forecast\n",
    "forecast_index = pd.date_range(start=df.index[-1] + pd.Timedelta(days=1), periods=forecast_steps, freq='M')\n",
    "forecast_df = pd.DataFrame(forecast_mean).rename(columns={'predicted_mean': 'Forecast'})\n",
    "\n",
    "# Combine the original data and the forecast\n",
    "combined_df = pd.concat([df['Value'], forecast_df], axis=0)\n",
    "\n",
    "# Display the forecast\n",
    "print(forecast_df)"
   ]
  },
  {
   "cell_type": "code",
   "execution_count": null,
   "id": "83c6fbd5-4fda-4a21-b744-7c81b0379c58",
   "metadata": {},
   "outputs": [],
   "source": [
    "plt.figure(figsize=(12, 6))\n",
    "plt.plot(combined_df.index, combined_df['Value'], label='Observed')\n",
    "plt.plot(forecast_df.index, forecast_df['Forecast'], label='Forecast', color='red')\n",
    "plt.fill_between(forecast_ci.index, forecast_ci.iloc[:, 0], forecast_ci.iloc[:, 1], color='pink', alpha=0.3)\n",
    "plt.title('SARIMAX Forecast with Exogenous Regressor')\n",
    "plt.xlabel('Date')\n",
    "plt.ylabel('Value')\n",
    "plt.legend()\n",
    "plt.show()"
   ]
  },
  {
   "cell_type": "code",
   "execution_count": null,
   "id": "200b0166-c775-4f4a-9416-b9d37b9413ae",
   "metadata": {},
   "outputs": [],
   "source": []
  }
 ],
 "metadata": {
  "kernelspec": {
   "display_name": "Python 3 (ipykernel)",
   "language": "python",
   "name": "python3"
  },
  "language_info": {
   "codemirror_mode": {
    "name": "ipython",
    "version": 3
   },
   "file_extension": ".py",
   "mimetype": "text/x-python",
   "name": "python",
   "nbconvert_exporter": "python",
   "pygments_lexer": "ipython3",
   "version": "3.11.7"
  }
 },
 "nbformat": 4,
 "nbformat_minor": 5
}
